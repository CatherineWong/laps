{
 "cells": [
  {
   "cell_type": "code",
   "execution_count": 41,
   "id": "ed4c7664-9cea-45a5-9cde-fc105aafe7b5",
   "metadata": {
    "tags": []
   },
   "outputs": [
    {
     "name": "stdout",
     "output_type": "stream",
     "text": [
      "The autoreload extension is already loaded. To reload it, use:\n",
      "  %reload_ext autoreload\n"
     ]
    }
   ],
   "source": [
    "%load_ext autoreload\n",
    "%autoreload 2"
   ]
  },
  {
   "cell_type": "code",
   "execution_count": 42,
   "id": "7c06efe0-7d4a-40ee-81b1-45dcd0dd8954",
   "metadata": {
    "tags": []
   },
   "outputs": [],
   "source": [
    "import os\n",
    "import json\n",
    "\n",
    "import pandas as pd\n",
    "import seaborn as sns\n",
    "from matplotlib import pyplot as plt\n",
    "\n",
    "# import data.drawings.make_tasks as drawing_tasks\n",
    "from src.analysis_utilities import SynthesisExperimentAnalyzer\n",
    "from src.config_builder import ExperimentType\n",
    "from src.models.library_namer import LibraryNamerPrompt\n",
    "from src.models.laps_grammar import LAPSGrammar\n",
    "from src.experiment_iterator import ExperimentState\n",
    "\n",
    "from run_experiment import *\n",
    "from dreamcoder.program import Program"
   ]
  },
  {
   "cell_type": "code",
   "execution_count": 49,
   "id": "32c63dee-5a7d-4b1d-8616-8dad42a935dc",
   "metadata": {
    "tags": []
   },
   "outputs": [],
   "source": [
    "# re2\n",
    "# RUN_PATH = \"experiments_iterative/outputs/runs_re2/domains/re2/gpt_solver_stitch_namer_search/seed_111/gpt_solver_stitch_namer_search_96\"\n",
    "# ITERATION = 15\n",
    "\n",
    "# clevr\n",
    "# RUN_PATH = \"experiments_iterative/outputs/runs_clevr/domains/clevr/gpt_solver_stitch_namer/seed_111/gpt_solver_stitch_namer_96\"\n",
    "# ITERATION = 9\n",
    "\n",
    "# logo\n",
    "# RUN_PATH = \"experiments_iterative/outputs/runs_logo_1800/domains/logo/gpt_solver_stitch_namer/seed_111/gpt_solver_stitch_namer_96\"\n",
    "RUN_PATH = \"experiments_iterative/outputs/runs_logo/domains/logo/gpt_solver_stitch_namer/seed_111/gpt_solver_stitch_namer_96\"\n",
    "ITERATION = 9\n",
    "\n",
    "CONFIG_PATH = os.path.join(RUN_PATH, \"config.json\")\n",
    "LIBRARY_NAMING_RESULTS_PATH = os.path.join(RUN_PATH, str(ITERATION - 1), \"train\", \"gpt_library_namer_results.json\")"
   ]
  },
  {
   "cell_type": "code",
   "execution_count": 51,
   "id": "b7da6d34-42dd-435b-97e9-6788007eb000",
   "metadata": {
    "tags": []
   },
   "outputs": [
    {
     "name": "stdout",
     "output_type": "stream",
     "text": [
      "Loaded grammar from: experiments_iterative/outputs/runs_logo/domains/logo/gpt_solver_stitch_namer/seed_111/gpt_solver_stitch_namer_96/9\n",
      "Loaded grammar from: experiments_iterative/outputs/runs_logo/domains/logo/gpt_solver_stitch_namer/seed_111/gpt_solver_stitch_namer_96/9\n"
     ]
    }
   ],
   "source": [
    "with open(LIBRARY_NAMING_RESULTS_PATH, \"r\") as f:\n",
    "    data = json.load(f)\n",
    "    \n",
    "with open(CONFIG_PATH) as f:\n",
    "    config_json = json.load(f)\n",
    "    config_json[\"metadata\"][\"init_grammar_from_checkpoint\"] = True\n",
    "    config_json[\"metadata\"][\"resume_checkpoint_directory\"] = None\n",
    "    config_json[\"metadata\"][\"curr_iteration\"] = ITERATION\n",
    "    experiment_state = ExperimentState(config_json)\n",
    "\n",
    "grammar = experiment_state.models[\"grammar\"]"
   ]
  },
  {
   "cell_type": "code",
   "execution_count": 52,
   "id": "6653b916-93f8-4b88-9cf1-687919e67182",
   "metadata": {
    "tags": []
   },
   "outputs": [
    {
     "name": "stdout",
     "output_type": "stream",
     "text": [
      "#(lambda (lambda (lambda (logo_forLoop $0 (lambda (lambda (logo_FWRT logo_ZL (logo_DIVA logo_UA $2) (logo_forLoop $3 (lambda (lambda (logo_FWRT logo_UL (logo_DIVA logo_UA $5) $0))) $0)))) $2))))\n",
      "#(lambda (lambda (lambda (logo_forLoop $1 (lambda (lambda (logo_FWRT $2 (logo_DIVA logo_UA $3) $0))) $2))))\n",
      "#(lambda (lambda (logo_forLoop $0 (lambda (lambda (logo_FWRT logo_ZL (logo_DIVA logo_UA 4) (logo_forLoop 7 (lambda (lambda (logo_FWRT logo_UL (logo_DIVA logo_UA 4) $0))) $0)))) $1)))\n",
      "#(lambda (lambda (logo_forLoop logo_IFTY (lambda (lambda (logo_FWRT (logo_MULL logo_epsL $2) logo_epsA $0))) $1)))\n",
      "#(lambda (lambda (#(lambda (lambda (lambda (logo_forLoop $1 (lambda (lambda (logo_FWRT $2 (logo_DIVA logo_UA $3) $0))) $2)))) $0 $1 (logo_MULL logo_UL 2))))\n",
      "#(lambda (lambda (logo_forLoop $0 (lambda (lambda (logo_FWRT logo_UL logo_UA $0))) $1)))\n",
      "#(lambda (lambda (logo_forLoop 7 (lambda (lambda (#(lambda (lambda (logo_forLoop logo_IFTY (lambda (lambda (logo_FWRT (logo_MULL logo_epsL $2) logo_epsA $0))) $1))) $0 $2))) $1)))\n",
      "#(lambda (logo_FWRT logo_ZL (logo_DIVA logo_UA 4) (logo_FWRT logo_UL logo_UA $0)))\n",
      "#(lambda (lambda (#(lambda (lambda (lambda (logo_forLoop $1 (lambda (lambda (logo_FWRT $2 (logo_DIVA logo_UA $3) $0))) $2)))) $0 $1 logo_UL)))\n",
      "#(lambda (lambda (#(lambda (lambda (lambda (logo_forLoop $0 (lambda (lambda (logo_FWRT logo_ZL (logo_DIVA logo_UA $2) (logo_forLoop $3 (lambda (lambda (logo_FWRT logo_UL (logo_DIVA logo_UA $5) $0))) $0)))) $2)))) $0 $1 8)))\n"
     ]
    }
   ],
   "source": [
    "for fn_body, fn_data in data[\"abstractions\"].items():\n",
    "    print(fn_body)\n",
    "    grammar.set_function_name(fn_body, name_class=\"human_readable\", name=fn_data[\"readable_name\"])"
   ]
  },
  {
   "cell_type": "code",
   "execution_count": 53,
   "id": "bd2af578-3564-46c6-92ce-63d8795a52c1",
   "metadata": {
    "tags": []
   },
   "outputs": [
    {
     "name": "stdout",
     "output_type": "stream",
     "text": [
      "(fn_27) logo_snowflake_with_arms :: turtle -> int -> int -> turtle\n",
      "(lambda (lambda (lambda (logo_for_loop $0 (lambda (lambda (logo_move_pen_forward_rotate logo_zero_line (logo_divide_angle logo_unit_angle $2) (logo_for_loop $3 (lambda (lambda (logo_move_pen_forward_rotate logo_unit_line (logo_divide_angle logo_unit_angle $5) $0))) $0)))) $2))))\n",
      "{- Generates a snowflake pattern with arms of a given angle and number of sides. Takes a turtle as input, as well as the angle of each arm and the number of sides on each arm as integers. -}\n",
      "\n",
      "{- Example usages -}\n",
      "--3 sided snowflake with a small 8 gon as arms\n",
      "(lambda (logo_snowflake_with_arms $0 8 3))\n",
      "--6 sided snowflake with a small triangle as arms\n",
      "(lambda (logo_snowflake_with_arms $0 3 6))\n",
      "--6 sided snowflake with a small 7 gon as arms\n",
      "(lambda (logo_snowflake_with_arms $0 7 6))\n",
      "\n",
      "(fn_28) turtle_move_for_loop :: turtle -> int -> tlength -> turtle\n",
      "(lambda (lambda (lambda (logo_for_loop $1 (lambda (lambda (logo_move_pen_forward_rotate $2 (logo_divide_angle logo_unit_angle $3) $0))) $2))))\n",
      "{- Moves the turtle forward in a loop, rotating it by a given angle after each movement. Takes a turtle as input, the number of iterations for the loop as an integer, and the length of each movement as a tlength. -}\n",
      "\n",
      "{- Example usages -}\n",
      "\n",
      "(fn_29) small_square_line_pattern :: turtle -> int -> turtle\n",
      "(lambda (lambda (logo_for_loop $0 (lambda (lambda (logo_move_pen_forward_rotate logo_zero_line (logo_divide_angle logo_unit_angle 4) (logo_for_loop 7 (lambda (lambda (logo_move_pen_forward_rotate logo_unit_line (logo_divide_angle logo_unit_angle 4) $0))) $0)))) $1)))\n",
      "{- Generates a repeating pattern of small squares in a line. Takes a turtle as input and the number of squares in the line as an integer. -}\n",
      "\n",
      "{- Example usages -}\n",
      "--4 small square s in a row\n",
      "(lambda (small_square_line_pattern $0 4))\n",
      "--a small square\n",
      "(lambda (small_square_line_pattern $0 1))\n",
      "--6 small square s in a row\n",
      "(lambda (small_square_line_pattern $0 6))\n",
      "\n",
      "(fn_30) turtle_draw_semistripes :: turtle -> int -> turtle\n",
      "(lambda (lambda (logo_for_loop logo_IFTY (lambda (lambda (logo_move_pen_forward_rotate (logo_multiply_line logo_epsilon_line $2) logo_epsilon_angle $0))) $1)))\n",
      "{- Draws a semicircular stripe pattern. Takes a turtle as input and an integer specifying the length of each stripe. -}\n",
      "\n",
      "{- Example usages -}\n",
      "--a medium semicircle\n",
      "(lambda (turtle_draw_semistripes $0 2))\n",
      "--a big semicircle\n",
      "(lambda (turtle_draw_semistripes $0 5))\n",
      "--a small semicircle\n",
      "(lambda (turtle_draw_semistripes $0 1))\n",
      "\n",
      "(fn_31) turtle_move_loop_double_length :: int -> turtle -> turtle\n",
      "(lambda (lambda (turtle_move_for_loop $0 $1 (logo_multiply_line logo_unit_line 2))))\n",
      "{- Moves the turtle forward in a loop for a specified number of iterations, each movement being twice the length of the turtle's unit line. Takes a turtle as input and the number of iterations for the loop as an integer. -}\n",
      "\n",
      "{- Example usages -}\n",
      "--a medium triangle\n",
      "(lambda (turtle_move_loop_double_length 3 $0))\n",
      "--a medium square\n",
      "(lambda (turtle_move_loop_double_length 4 $0))\n",
      "--a medium 8 gon\n",
      "(lambda (turtle_move_loop_double_length 8 $0))\n",
      "\n",
      "(fn_32) turtle_draw_short_line_loop :: turtle -> int -> turtle\n",
      "(lambda (lambda (logo_for_loop $0 (lambda (lambda (logo_move_pen_forward_rotate logo_unit_line logo_unit_angle $0))) $1)))\n",
      "{- Draws a loop of short lines using the turtle, with the number of lines specified as an integer -}\n",
      "\n",
      "{- Example usages -}\n",
      "--3 short line s in a row\n",
      "(lambda (turtle_draw_short_line_loop $0 3))\n",
      "--5 short line s in a row\n",
      "(lambda (turtle_draw_short_line_loop $0 5))\n",
      "--a short line\n",
      "(lambda (turtle_draw_short_line_loop $0 1))\n",
      "\n",
      "(fn_33) turtle_semicircular_stripes_loop :: turtle -> int -> turtle\n",
      "(lambda (lambda (logo_for_loop 7 (lambda (lambda (turtle_draw_semistripes $0 $2))) $1)))\n",
      "{- Draws a loop of semicircular stripes using the turtle, with the number of stripes specified as an integer -}\n",
      "\n",
      "{- Example usages -}\n",
      "--a medium circle\n",
      "(lambda (turtle_semicircular_stripes_loop $0 2))\n",
      "--a big circle\n",
      "(lambda (turtle_semicircular_stripes_loop $0 5))\n",
      "--a small circle\n",
      "(lambda (turtle_semicircular_stripes_loop $0 1))\n",
      "\n",
      "(fn_34) turtle_short_diagonal_line :: turtle -> turtle\n",
      "(lambda (logo_move_pen_forward_rotate logo_zero_line (logo_divide_angle logo_unit_angle 4) (logo_move_pen_forward_rotate logo_unit_line logo_unit_angle $0)))\n",
      "{- Moves the turtle forward at a 45 degree angle, then rotates it by 22.5 degrees, and moves it forward again along the original angle. This generates a short diagonal line segment. Takes a turtle as input. -}\n",
      "\n",
      "{- Example usages -}\n",
      "--a short line\n",
      "(lambda (logo_move_pen_forward_rotate logo_zero_line (logo_divide_angle logo_unit_angle 4) (turtle_short_diagonal_line $0)))\n",
      "--a vertical short line\n",
      "(lambda (turtle_short_diagonal_line $0))\n",
      "\n",
      "(fn_35) turtle_draw_polygon :: int -> turtle -> turtle\n",
      "(lambda (lambda (turtle_move_for_loop $0 $1 logo_unit_line)))\n",
      "{- Draws a polygon with a specified number of sides using the turtle, with the length of each side set to the length of the turtle's unit line. Takes an integer representing the number of sides of the polygon and a turtle as input.  -}\n",
      "\n",
      "{- Example usages -}\n",
      "--a small square\n",
      "(lambda (turtle_draw_polygon 4 $0))\n",
      "--a small 6 gon\n",
      "(lambda (turtle_draw_polygon 6 $0))\n",
      "--a small 8 gon\n",
      "(lambda (turtle_draw_polygon 8 $0))\n",
      "\n",
      "(fn_36) snowflake_with_small_polygon_arms :: int -> turtle -> turtle\n",
      "(lambda (lambda (logo_snowflake_with_arms $0 $1 8)))\n",
      "{- Generates a snowflake pattern with arms in the shape of a regular polygon with a specified number of sides (up to 8), given a turtle as input. -}\n",
      "\n",
      "{- Example usages -}\n",
      "--8 sided snowflake with a small triangle as arms\n",
      "(lambda (snowflake_with_small_polygon_arms 3 $0))\n",
      "--8 sided snowflake with a small square as arms\n",
      "(lambda (snowflake_with_small_polygon_arms 4 $0))\n",
      "--8 sided snowflake with a small 6 gon as arms\n",
      "(lambda (snowflake_with_small_polygon_arms 6 $0))\n",
      "\n"
     ]
    }
   ],
   "source": [
    "for fn_body, fn_data in data[\"abstractions\"].items():\n",
    "    fn_body_readable = grammar.show_program(fn_body[1:], name_classes=[\"human_readable\"], debug=True)\n",
    "    \n",
    "    print(f\"({fn_data['anonymous_name']}) {fn_data['readable_name']} :: {Program.parse(fn_body[1:]).infer()}\")\n",
    "    print(fn_body_readable)\n",
    "    print(\"{- \" + fn_data[\"description\"] + \" -}\")\n",
    "    print()\n",
    "    \n",
    "    print(\"{- \" + \"Example usages\" + \" -}\")\n",
    "    for usage_data in fn_data['usage_examples'][:3]:\n",
    "        print(\"--\" + usage_data['language'])\n",
    "        print(grammar.show_program(usage_data['program'], name_classes=[\"human_readable\"], debug=True))\n",
    "        \n",
    "    print()"
   ]
  },
  {
   "cell_type": "code",
   "execution_count": null,
   "id": "a10cd7f7-3ed8-4814-a0d5-79e34a123a7e",
   "metadata": {},
   "outputs": [],
   "source": []
  },
  {
   "cell_type": "code",
   "execution_count": null,
   "id": "563ece28-5115-428d-a073-9572370d4140",
   "metadata": {},
   "outputs": [],
   "source": []
  }
 ],
 "metadata": {
  "kernelspec": {
   "display_name": "Python 3 (ipykernel)",
   "language": "python",
   "name": "python3"
  },
  "language_info": {
   "codemirror_mode": {
    "name": "ipython",
    "version": 3
   },
   "file_extension": ".py",
   "mimetype": "text/x-python",
   "name": "python",
   "nbconvert_exporter": "python",
   "pygments_lexer": "ipython3",
   "version": "3.7.12"
  }
 },
 "nbformat": 4,
 "nbformat_minor": 5
}
