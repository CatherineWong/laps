{
 "cells": [
  {
   "cell_type": "code",
   "execution_count": 13,
   "metadata": {},
   "outputs": [],
   "source": [
    "import sys\n",
    "sys.path.append('../')\n",
    "from src.experiment_iterator import ExperimentState, ExperimentIterator\n",
    "\n",
    "from data.compositional_graphics.make_tasks import *\n",
    "\n",
    "# All of the model loaders we import.\n",
    "from data.compositional_graphics.grammar import *\n",
    "from data.compositional_graphics.encoder import *"
   ]
  },
  {
   "cell_type": "markdown",
   "metadata": {},
   "source": [
    "### Compositional Graphics (LAPS Graphics)"
   ]
  },
  {
   "cell_type": "code",
   "execution_count": 14,
   "metadata": {},
   "outputs": [
    {
     "ename": "FileNotFoundError",
     "evalue": "[Errno 2] No such file or directory: 'data/compositional_graphics/tasks/compositional_graphics_200/train'",
     "output_type": "error",
     "traceback": [
      "\u001b[0;31m---------------------------------------------------------------------------\u001b[0m",
      "\u001b[0;31mFileNotFoundError\u001b[0m                         Traceback (most recent call last)",
      "\u001b[0;32m<ipython-input-14-835ac9f38889>\u001b[0m in \u001b[0;36m<module>\u001b[0;34m\u001b[0m\n\u001b[1;32m     11\u001b[0m \u001b[0;34m\u001b[0m\u001b[0m\n\u001b[1;32m     12\u001b[0m \u001b[0mconfig\u001b[0m \u001b[0;34m=\u001b[0m \u001b[0mload_config_from_file\u001b[0m\u001b[0;34m(\u001b[0m\u001b[0mconfig_dir\u001b[0m\u001b[0;34m=\u001b[0m\u001b[0mDEFAULT_CONFIG_DIR\u001b[0m\u001b[0;34m,\u001b[0m \u001b[0mconfig_file\u001b[0m\u001b[0;34m=\u001b[0m\u001b[0mGRAPHICS_CONFIG\u001b[0m\u001b[0;34m)\u001b[0m\u001b[0;34m\u001b[0m\u001b[0;34m\u001b[0m\u001b[0m\n\u001b[0;32m---> 13\u001b[0;31m \u001b[0mexperiment_state\u001b[0m \u001b[0;34m=\u001b[0m \u001b[0mExperimentState\u001b[0m\u001b[0;34m(\u001b[0m\u001b[0mconfig\u001b[0m\u001b[0;34m)\u001b[0m\u001b[0;34m\u001b[0m\u001b[0;34m\u001b[0m\u001b[0m\n\u001b[0m",
      "\u001b[0;32m~/Desktop/zyzzyva/code/laps/src/experiment_iterator.py\u001b[0m in \u001b[0;36m__init__\u001b[0;34m(self, config)\u001b[0m\n\u001b[1;32m     45\u001b[0m     \u001b[0;32mdef\u001b[0m \u001b[0m__init__\u001b[0m\u001b[0;34m(\u001b[0m\u001b[0mself\u001b[0m\u001b[0;34m,\u001b[0m \u001b[0mconfig\u001b[0m\u001b[0;34m)\u001b[0m\u001b[0;34m:\u001b[0m\u001b[0;34m\u001b[0m\u001b[0;34m\u001b[0m\u001b[0m\n\u001b[1;32m     46\u001b[0m         \u001b[0mself\u001b[0m\u001b[0;34m.\u001b[0m\u001b[0mconfig\u001b[0m \u001b[0;34m=\u001b[0m \u001b[0mconfig\u001b[0m\u001b[0;34m\u001b[0m\u001b[0;34m\u001b[0m\u001b[0m\n\u001b[0;32m---> 47\u001b[0;31m         \u001b[0mself\u001b[0m\u001b[0;34m.\u001b[0m\u001b[0mtasks\u001b[0m\u001b[0;34m,\u001b[0m \u001b[0mself\u001b[0m\u001b[0;34m.\u001b[0m\u001b[0mtask_frontiers\u001b[0m \u001b[0;34m=\u001b[0m \u001b[0mself\u001b[0m\u001b[0;34m.\u001b[0m\u001b[0minit_tasks_from_config\u001b[0m\u001b[0;34m(\u001b[0m\u001b[0mconfig\u001b[0m\u001b[0;34m)\u001b[0m\u001b[0;34m\u001b[0m\u001b[0;34m\u001b[0m\u001b[0m\n\u001b[0m\u001b[1;32m     48\u001b[0m         self.task_language, self.task_vocab = self.init_task_language_from_config(\n\u001b[1;32m     49\u001b[0m             \u001b[0mconfig\u001b[0m\u001b[0;34m\u001b[0m\u001b[0;34m\u001b[0m\u001b[0m\n",
      "\u001b[0;32m~/Desktop/zyzzyva/code/laps/src/experiment_iterator.py\u001b[0m in \u001b[0;36minit_tasks_from_config\u001b[0;34m(self, config)\u001b[0m\n\u001b[1;32m     60\u001b[0m     \u001b[0;32mdef\u001b[0m \u001b[0minit_tasks_from_config\u001b[0m\u001b[0;34m(\u001b[0m\u001b[0mself\u001b[0m\u001b[0;34m,\u001b[0m \u001b[0mconfig\u001b[0m\u001b[0;34m)\u001b[0m\u001b[0;34m:\u001b[0m\u001b[0;34m\u001b[0m\u001b[0;34m\u001b[0m\u001b[0m\n\u001b[1;32m     61\u001b[0m         \u001b[0mtask_loader\u001b[0m \u001b[0;34m=\u001b[0m \u001b[0mtask_loaders\u001b[0m\u001b[0;34m.\u001b[0m\u001b[0mTaskLoaderRegistry\u001b[0m\u001b[0;34m[\u001b[0m\u001b[0mconfig\u001b[0m\u001b[0;34m[\u001b[0m\u001b[0mMETADATA\u001b[0m\u001b[0;34m]\u001b[0m\u001b[0;34m[\u001b[0m\u001b[0mTASKS_LOADER\u001b[0m\u001b[0;34m]\u001b[0m\u001b[0;34m]\u001b[0m\u001b[0;34m\u001b[0m\u001b[0;34m\u001b[0m\u001b[0m\n\u001b[0;32m---> 62\u001b[0;31m         \u001b[0mtasks\u001b[0m \u001b[0;34m=\u001b[0m \u001b[0mtask_loader\u001b[0m\u001b[0;34m.\u001b[0m\u001b[0mload_tasks\u001b[0m\u001b[0;34m(\u001b[0m\u001b[0;34m)\u001b[0m\u001b[0;34m\u001b[0m\u001b[0;34m\u001b[0m\u001b[0m\n\u001b[0m\u001b[1;32m     63\u001b[0m \u001b[0;34m\u001b[0m\u001b[0m\n\u001b[1;32m     64\u001b[0m         \u001b[0;31m# TODO: allow initialization from frontiers.\u001b[0m\u001b[0;34m\u001b[0m\u001b[0;34m\u001b[0m\u001b[0;34m\u001b[0m\u001b[0m\n",
      "\u001b[0;32m~/Desktop/zyzzyva/code/laps/data/compositional_graphics/make_tasks.py\u001b[0m in \u001b[0;36mload_tasks\u001b[0;34m(self)\u001b[0m\n\u001b[1;32m     23\u001b[0m             task_files = sorted(\n\u001b[1;32m     24\u001b[0m                 [\n\u001b[0;32m---> 25\u001b[0;31m                     \u001b[0mos\u001b[0m\u001b[0;34m.\u001b[0m\u001b[0mpath\u001b[0m\u001b[0;34m.\u001b[0m\u001b[0mjoin\u001b[0m\u001b[0;34m(\u001b[0m\u001b[0msplit_path\u001b[0m\u001b[0;34m,\u001b[0m \u001b[0mt\u001b[0m\u001b[0;34m)\u001b[0m\u001b[0;34m\u001b[0m\u001b[0;34m\u001b[0m\u001b[0m\n\u001b[0m\u001b[1;32m     26\u001b[0m                     \u001b[0;32mfor\u001b[0m \u001b[0mt\u001b[0m \u001b[0;32min\u001b[0m \u001b[0mos\u001b[0m\u001b[0;34m.\u001b[0m\u001b[0mlistdir\u001b[0m\u001b[0;34m(\u001b[0m\u001b[0msplit_path\u001b[0m\u001b[0;34m)\u001b[0m\u001b[0;34m\u001b[0m\u001b[0;34m\u001b[0m\u001b[0m\n\u001b[1;32m     27\u001b[0m                     \u001b[0;32mif\u001b[0m \u001b[0;34m\".p\"\u001b[0m \u001b[0;32min\u001b[0m \u001b[0mt\u001b[0m\u001b[0;34m\u001b[0m\u001b[0;34m\u001b[0m\u001b[0m\n",
      "\u001b[0;31mFileNotFoundError\u001b[0m: [Errno 2] No such file or directory: 'data/compositional_graphics/tasks/compositional_graphics_200/train'"
     ]
    }
   ],
   "source": [
    "import json \n",
    "\n",
    "DEFAULT_CONFIG_DIR = \"../experiments/configs\"\n",
    "GRAPHICS_CONFIG = \"seq2seq_language_only_compositional_graphics_200_human.json\"\n",
    "\n",
    "def load_config_from_file(config_dir, config_file):\n",
    "    config_full_path = os.path.join(config_dir, config_file)\n",
    "    with open(config_full_path) as f:\n",
    "        return json.load(f)\n",
    "\n",
    "\n",
    "config = load_config_from_file(config_dir=DEFAULT_CONFIG_DIR, config_file=GRAPHICS_CONFIG)\n",
    "experiment_state = ExperimentState(config)"
   ]
  },
  {
   "cell_type": "code",
   "execution_count": 10,
   "metadata": {},
   "outputs": [
    {
     "data": {
      "text/plain": [
       "{'metadata': {'experiment_id': 'seq2seq_language_only_compositional_graphics_200_human',\n",
       "  'human_readable': 'Initializes a language only sequence to sequence model. Domain: compositional graphics 200. Human language.',\n",
       "  'export_directory': None,\n",
       "  'log_directory': None,\n",
       "  'tasks_loader': 'compositional_graphics_200',\n",
       "  'task_language_loader': 'compositional_graphics_200_human',\n",
       "  'resume_checkpoint_directory': None,\n",
       "  'init_frontiers_from_checkpoint': False,\n",
       "  'ocaml_special_handler': 'LOGO',\n",
       "  'random_seed': 0},\n",
       " 'model_initializers': [{'model_type': 'grammar',\n",
       "   'model_loader': 'LOGO',\n",
       "   'model_initializer_fn': 'load_model',\n",
       "   'params': {}},\n",
       "  {'model_type': 'language_encoder',\n",
       "   'model_loader': 'sequence_language_encoder',\n",
       "   'model_initializer_fn': 'load_model',\n",
       "   'params': {}},\n",
       "  {'model_type': 'amortized_synthesis',\n",
       "   'model_loader': 'seq2seq',\n",
       "   'model_initializer_fn': 'load_model',\n",
       "   'params': {'task_encoder_types': ['language_encoder']}}],\n",
       " 'experiment_iterator': {'max_iterations': 1,\n",
       "  'task_batcher': 'ordered_task_batcher',\n",
       "  'loop_blocks': []}}"
      ]
     },
     "execution_count": 10,
     "metadata": {},
     "output_type": "execute_result"
    }
   ],
   "source": []
  },
  {
   "cell_type": "code",
   "execution_count": null,
   "metadata": {},
   "outputs": [],
   "source": []
  }
 ],
 "metadata": {
  "kernelspec": {
   "display_name": "Python 3",
   "language": "python",
   "name": "python3"
  },
  "language_info": {
   "codemirror_mode": {
    "name": "ipython",
    "version": 3
   },
   "file_extension": ".py",
   "mimetype": "text/x-python",
   "name": "python",
   "nbconvert_exporter": "python",
   "pygments_lexer": "ipython3",
   "version": "3.7.7"
  }
 },
 "nbformat": 4,
 "nbformat_minor": 4
}
