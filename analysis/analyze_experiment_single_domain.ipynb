{
 "cells": [
  {
   "cell_type": "code",
   "execution_count": null,
   "id": "a5285f8b-7b08-4c03-a5dc-bf08293c7b39",
   "metadata": {},
   "outputs": [],
   "source": [
    "import sys\n",
    "\n",
    "sys.path.append(\"../\")"
   ]
  },
  {
   "cell_type": "code",
   "execution_count": null,
   "id": "73bad25f-b75e-4290-8c74-1ed7deb48c54",
   "metadata": {},
   "outputs": [],
   "source": [
    "%load_ext autoreload\n",
    "%autoreload 2"
   ]
  },
  {
   "cell_type": "code",
   "execution_count": null,
   "id": "cf378b7d-2e23-4346-a245-033274dd5e3a",
   "metadata": {},
   "outputs": [],
   "source": [
    "import os\n",
    "\n",
    "import data.drawings.make_tasks as drawing_tasks\n",
    "import pandas as pd\n",
    "import seaborn as sns\n",
    "from matplotlib import pyplot as plt\n",
    "from src.analysis_utilities import IterativeExperimentAnalyzer\n",
    "from src.config_builder import ExperimentType"
   ]
  },
  {
   "cell_type": "code",
   "execution_count": null,
   "id": "bdd76c88-a723-46bb-9734-519173f33fad",
   "metadata": {},
   "outputs": [],
   "source": [
    "%config InlineBackend.figure_format = 'retina'"
   ]
  },
  {
   "cell_type": "markdown",
   "id": "a5e08b79-0f74-4ef5-b03f-6a1df0f69270",
   "metadata": {},
   "source": [
    "# Single-domain analysis"
   ]
  },
  {
   "cell_type": "code",
   "execution_count": null,
   "id": "93918c9f-c182-4257-b280-69b5b97059ba",
   "metadata": {},
   "outputs": [],
   "source": [
    "# EXPERIMENT_NAME = \"gg_drawings\"\n",
    "# DOMAIN = \"drawings_nuts_bolts\"\n",
    "# DOMAIN = \"drawings_furniture\"\n",
    "# DOMAIN = \"drawings_dials\"\n",
    "# DOMAIN = \"drawings_wheels\"\n",
    "\n",
    "EXPERIMENT_NAME = \"gg_laps_domains\"\n",
    "DOMAIN = \"clevr\"\n",
    "# DOMAIN = \"re2\"\n",
    "\n",
    "FIGURES_DIR = os.path.join(\"figures\", EXPERIMENT_NAME)\n",
    "FIGURES_DOMAIN_DIR = os.path.join(\"figures\", EXPERIMENT_NAME, DOMAIN)\n",
    "os.makedirs(FIGURES_DOMAIN_DIR, exist_ok=True)\n",
    "\n",
    "analyzer = IterativeExperimentAnalyzer(\n",
    "    experiment_name=EXPERIMENT_NAME,\n",
    "    allow_incomplete_results=False,\n",
    ")"
   ]
  },
  {
   "cell_type": "code",
   "execution_count": null,
   "id": "46edb16d-52d8-48b4-9dc8-f64304119d49",
   "metadata": {},
   "outputs": [],
   "source": [
    "analyzer.get_available_experiment_types(domain=DOMAIN)"
   ]
  },
  {
   "cell_type": "code",
   "execution_count": null,
   "id": "b3952ccd-98ec-4538-8388-fdfc2a466488",
   "metadata": {},
   "outputs": [],
   "source": [
    "# experiment_types = [\n",
    "#     ExperimentType.ORACLE.value,\n",
    "#     ExperimentType.ORACLE_TRAIN_TEST.value,\n",
    "#     ExperimentType.STITCH.value,\n",
    "#     ExperimentType.STITCH_CODEX.value,\n",
    "#     ExperimentType.STITCH_CODEX_LANGUAGE.value,\n",
    "#     ExperimentType.STITCH_CODEX_LANGUAGE_ORIGIN_RANDOM_TEST.value,\n",
    "# ]\n",
    "\n",
    "experiment_types = None\n",
    "\n",
    "df = analyzer.get_results_for_domain(domain=DOMAIN, experiment_types=experiment_types)"
   ]
  },
  {
   "cell_type": "code",
   "execution_count": null,
   "id": "f992a82a-e4c6-487e-9948-c5e24ef96950",
   "metadata": {},
   "outputs": [],
   "source": [
    "analyzer.plot_description_length(domain=DOMAIN, df=df)\n",
    "plt.savefig(os.path.join(FIGURES_DOMAIN_DIR, f\"description_length.png\"), dpi=300)"
   ]
  },
  {
   "cell_type": "code",
   "execution_count": null,
   "id": "b06da0c3-f561-4f69-89cf-2ac39030f6b2",
   "metadata": {},
   "outputs": [],
   "source": [
    "analyzer.plot_description_length(\n",
    "    domain=DOMAIN, df=df, plot_type=\"lineplot\", logscale=True\n",
    ")"
   ]
  },
  {
   "cell_type": "code",
   "execution_count": null,
   "id": "e05781e6-25e6-418c-a3b2-6852145ab15b",
   "metadata": {},
   "outputs": [],
   "source": [
    "analyzer.plot_n_frontiers(domain=DOMAIN, df=df)"
   ]
  },
  {
   "cell_type": "markdown",
   "id": "18b9b5f0-2108-4eb6-a3c7-6327df7b6235",
   "metadata": {},
   "source": [
    "## What programs does Codex generate?"
   ]
  },
  {
   "cell_type": "code",
   "execution_count": null,
   "id": "16eb1082-b057-4edc-b0fc-229691950f31",
   "metadata": {},
   "outputs": [],
   "source": [
    "df_codex = analyzer.get_codex_programs_for_experiment_type(\n",
    "    DOMAIN, experiment_type=ExperimentType.STITCH_CODEX\n",
    ")"
   ]
  },
  {
   "cell_type": "code",
   "execution_count": null,
   "id": "5d9b9d6c-00d6-422f-a3eb-6918f6f080b4",
   "metadata": {},
   "outputs": [],
   "source": [
    "plt.title(\"Percentage of valid programs\")\n",
    "sns.barplot(data=df_codex, x=\"batch_size\", y=\"valid\", hue=\"origin\");"
   ]
  },
  {
   "cell_type": "code",
   "execution_count": null,
   "id": "aba478f5-1bee-4908-8084-fd3b49f34a63",
   "metadata": {},
   "outputs": [],
   "source": [
    "plt.title(\"Program string length\")\n",
    "sns.violinplot(data=df_codex, x=\"batch_size\", y=\"program_str_len\", hue=\"origin\");"
   ]
  },
  {
   "cell_type": "code",
   "execution_count": null,
   "id": "ffa53ff0-bbc4-4981-b5b9-85a20b5eac34",
   "metadata": {},
   "outputs": [],
   "source": [
    "plt.title(\"Count of unique programs\")\n",
    "\n",
    "df_tmp1 = (\n",
    "    df_codex.query(\"origin == 'train'\")\n",
    "    .groupby([\"batch_size\", \"seed\"])\n",
    "    .nunique()\n",
    "    .reset_index()\n",
    ")\n",
    "df_tmp2 = (\n",
    "    df_codex.query(\"origin == 'codex'\")\n",
    "    .groupby([\"batch_size\", \"seed\"])\n",
    "    .nunique()\n",
    "    .reset_index()\n",
    ")\n",
    "df_tmp3 = (\n",
    "    df_codex.query(\"origin == 'codex' & copied_from_train\")\n",
    "    .groupby([\"batch_size\", \"seed\"])\n",
    "    .nunique()\n",
    "    .reset_index()\n",
    ")\n",
    "df_tmp4 = (\n",
    "    df_codex.query(\"origin == 'codex' & ~copied_from_train\")\n",
    "    .groupby([\"batch_size\", \"seed\"])\n",
    "    .nunique()\n",
    "    .reset_index()\n",
    ")\n",
    "df_tmp1[\"origin\"] = \"train\"\n",
    "df_tmp2[\"origin\"] = \"codex (overall)\"\n",
    "df_tmp3[\"origin\"] = \"codex (copied from train)\"\n",
    "df_tmp4[\"origin\"] = \"codex (original)\"\n",
    "\n",
    "df_tmp = pd.concat([df_tmp1, df_tmp2, df_tmp3, df_tmp4], axis=0).reset_index()\n",
    "\n",
    "sns.pointplot(data=df_tmp, x=\"batch_size\", y=\"program\", hue=\"origin\");"
   ]
  },
  {
   "cell_type": "code",
   "execution_count": null,
   "id": "66cf90fd-5fd3-4183-acb5-6914d29d1b42",
   "metadata": {},
   "outputs": [],
   "source": [
    "plt.title(\"Count of programs copied from train\")\n",
    "sns.pointplot(\n",
    "    data=df_codex.groupby([\"batch_size\", \"seed\"]).sum().reset_index(),\n",
    "    x=\"batch_size\",\n",
    "    y=\"copied_from_train\",\n",
    ");"
   ]
  },
  {
   "cell_type": "code",
   "execution_count": null,
   "id": "2af9d4da-ca37-4eb6-94a1-bc30997374d7",
   "metadata": {},
   "outputs": [],
   "source": [
    "plt.title(f\"{DOMAIN}: Count of programs per prompt\")\n",
    "sns.pointplot(\n",
    "    data=df_codex.query(\"origin == 'train'\")\n",
    "    .groupby([\"batch_size\", \"seed\", \"query_id\"])\n",
    "    .count()\n",
    "    .reset_index(),\n",
    "    x=\"batch_size\",\n",
    "    y=\"program\",\n",
    ")"
   ]
  },
  {
   "cell_type": "markdown",
   "id": "649cf06a-1804-44bb-aee0-60bacdd41599",
   "metadata": {},
   "source": [
    "# Codex program analysis across multiple experiment types"
   ]
  },
  {
   "cell_type": "code",
   "execution_count": null,
   "id": "960d7807-6483-47dc-be0a-825f2f7ec366",
   "metadata": {},
   "outputs": [],
   "source": [
    "df_codex = analyzer.get_codex_programs(DOMAIN)"
   ]
  },
  {
   "cell_type": "code",
   "execution_count": null,
   "id": "09198cbd-df3f-4880-a977-4938c85526f4",
   "metadata": {},
   "outputs": [],
   "source": [
    "# plt.title(\"Percentage of valid programs\")\n",
    "sns.barplot(\n",
    "    data=analyzer.format_dataframe_camera(df_codex).query(\"origin != 'train'\"),\n",
    "    x=analyzer.COL_NAMES_CAMERA[\"batch_size\"],\n",
    "    y=\"valid\",\n",
    "    hue=analyzer.COL_NAMES_CAMERA[\"experiment_type\"],\n",
    "    palette=analyzer.EXPERIMENT_TYPES_PALETTE,\n",
    ");"
   ]
  },
  {
   "cell_type": "code",
   "execution_count": null,
   "id": "d4094419-13bb-4021-8b30-31aa1dfd36c3",
   "metadata": {},
   "outputs": [],
   "source": [
    "sns.catplot(\n",
    "    kind=\"violin\",\n",
    "    col=analyzer.COL_NAMES_CAMERA[\"experiment_type\"],\n",
    "    data=analyzer.format_dataframe_camera(df_codex),\n",
    "    x=analyzer.COL_NAMES_CAMERA[\"batch_size\"],\n",
    "    y=\"program_str_len\",\n",
    "    hue=\"origin\",\n",
    ");"
   ]
  },
  {
   "cell_type": "code",
   "execution_count": null,
   "id": "3a2bfe4d-8660-47bd-93c6-bb66596f79cb",
   "metadata": {},
   "outputs": [],
   "source": [
    "plt.title(f\"{DOMAIN}: Count of programs per prompt\")\n",
    "sns.pointplot(\n",
    "    data=analyzer.format_dataframe_camera(df_codex)\n",
    "    .query(\"origin == 'train'\")\n",
    "    .groupby(\n",
    "        [\n",
    "            analyzer.COL_NAMES_CAMERA[\"batch_size\"],\n",
    "            analyzer.COL_NAMES_CAMERA[\"experiment_type\"],\n",
    "            \"seed\",\n",
    "            \"query_id\",\n",
    "        ]\n",
    "    )\n",
    "    .count()\n",
    "    .reset_index(),\n",
    "    x=analyzer.COL_NAMES_CAMERA[\"batch_size\"],\n",
    "    y=\"program\",\n",
    "    hue=analyzer.COL_NAMES_CAMERA[\"experiment_type\"],\n",
    "    palette=analyzer.EXPERIMENT_TYPES_PALETTE,\n",
    ")"
   ]
  },
  {
   "cell_type": "code",
   "execution_count": null,
   "id": "08207aeb-8829-43fb-93b6-c1367822846d",
   "metadata": {},
   "outputs": [],
   "source": [
    "EXPERIMENT_NAME = \"gg_drawings\"\n",
    "\n",
    "DRAWING_DOMAINS = {\n",
    "    \"drawings_nuts_bolts\": \"nuts & bolts\",\n",
    "    \"drawings_wheels\": \"vehicles\",\n",
    "    \"drawings_dials\": \"gadgets\",\n",
    "    \"drawings_furniture\": \"furniture\",\n",
    "}\n",
    "\n",
    "analyzer_multi = IterativeExperimentAnalyzer(\n",
    "    experiment_name=EXPERIMENT_NAME,\n",
    "    allow_incomplete_results=False,\n",
    ")"
   ]
  },
  {
   "cell_type": "code",
   "execution_count": null,
   "id": "567dbdd3-e9e8-4698-9b2f-274c0e875e24",
   "metadata": {},
   "outputs": [],
   "source": [
    "df_list = []\n",
    "for domain in DRAWING_DOMAINS:\n",
    "    df = analyzer_multi.get_results_for_domain(domain=domain)\n",
    "    df[\"domain\"] = DRAWING_DOMAINS[domain]\n",
    "    df_list.append(df)\n",
    "df_domains = pd.concat(df_list, axis=0).reset_index(drop=True)"
   ]
  },
  {
   "cell_type": "code",
   "execution_count": null,
   "id": "be0e97d7-0f4e-48c8-ac6f-4fcac99f4cf7",
   "metadata": {},
   "outputs": [],
   "source": [
    "df_domains = analyzer.format_dataframe_camera(df_domains)\n",
    "\n",
    "g = sns.catplot(\n",
    "    data=df_domains,\n",
    "    x=analyzer_multi.COL_NAMES_CAMERA[\"batch_size\"],\n",
    "    y=analyzer_multi.COL_NAMES_CAMERA[\"description_length\"],\n",
    "    hue=analyzer_multi.COL_NAMES_CAMERA[\"experiment_type\"],\n",
    "    col=\"domain\",\n",
    "    col_wrap=2,\n",
    "    kind=\"point\",\n",
    "    sharex=False,\n",
    "    sharey=False,\n",
    "    legend=False,\n",
    "    aspect=1.5,\n",
    "    palette=analyzer_multi.EXPERIMENT_TYPES_PALETTE,\n",
    ")\n",
    "\n",
    "g.set_axis_labels(\n",
    "    analyzer_multi.COL_NAMES_CAMERA[\"batch_size\"],\n",
    "    analyzer_multi.COL_NAMES_CAMERA[\"description_length\"],\n",
    "    fontsize=14,\n",
    ")\n",
    "g.set_xticklabels(size=12)\n",
    "g.set_yticklabels(size=12)\n",
    "g.set_titles(col_template=\"{col_name}\", size=18)\n",
    "\n",
    "lgd = plt.legend(bbox_to_anchor=(1.0, 2.2), loc=\"upper left\", fontsize=18)\n",
    "\n",
    "plt.savefig(\n",
    "    \"drawings_results_camera.pdf\",\n",
    "    dpi=300,\n",
    "    bbox_extra_artists=(lgd,),\n",
    "    bbox_inches=\"tight\",\n",
    ")"
   ]
  },
  {
   "cell_type": "code",
   "execution_count": null,
   "id": "5bcc8538-36d7-4b6a-bb97-6cb6947c9d93",
   "metadata": {},
   "outputs": [],
   "source": []
  }
 ],
 "metadata": {
  "kernelspec": {
   "display_name": "Python 3 (ipykernel)",
   "language": "python",
   "name": "python3"
  },
  "language_info": {
   "codemirror_mode": {
    "name": "ipython",
    "version": 3
   },
   "file_extension": ".py",
   "mimetype": "text/x-python",
   "name": "python",
   "nbconvert_exporter": "python",
   "pygments_lexer": "ipython3",
   "version": "3.7.7"
  }
 },
 "nbformat": 4,
 "nbformat_minor": 5
}
