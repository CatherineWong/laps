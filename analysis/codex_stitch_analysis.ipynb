{
 "cells": [
  {
   "cell_type": "code",
   "execution_count": null,
   "id": "414964aa-a1e6-4047-96b2-a14518a32a98",
   "metadata": {},
   "outputs": [],
   "source": [
    "import glob\n",
    "import json\n",
    "import os\n",
    "\n",
    "import matplotlib.pyplot as plt\n",
    "import numpy as np\n",
    "import pandas as pd\n",
    "import seaborn as sns"
   ]
  },
  {
   "cell_type": "code",
   "execution_count": null,
   "id": "3b2a6e22-b510-4b89-bd4b-4c34a51edea2",
   "metadata": {},
   "outputs": [],
   "source": [
    "%config InlineBackend.figure_format = 'retina'"
   ]
  },
  {
   "cell_type": "code",
   "execution_count": null,
   "id": "70f938f2-0cf5-4173-a9c8-1fc202aa6075",
   "metadata": {},
   "outputs": [],
   "source": [
    "DIR_ITERATIVE_BASELINE = (\n",
    "    \"../experiments/outputs/compositional_graphics/logo_stitch_iterative/*\"\n",
    ")\n",
    "DIR_ITERATIVE_CODEX = (\n",
    "    \"../experiments/outputs/compositional_graphics/logo_codex_stitch_iterative/*\"\n",
    ")"
   ]
  },
  {
   "cell_type": "code",
   "execution_count": null,
   "id": "83708e60-7874-4922-a6fc-71331ead913b",
   "metadata": {},
   "outputs": [],
   "source": [
    "def get_log_likelihoods(dir_results):\n",
    "    data = []\n",
    "\n",
    "    for path in sorted(glob.glob(dir_results)):\n",
    "        config_json_path = os.path.join(path, \"config.json\")\n",
    "        with open(config_json_path, \"r\") as f:\n",
    "            config = json.load(f)\n",
    "        global_batch_size = config[\"experiment_iterator\"][\"task_batcher\"][\"params\"][\n",
    "            \"global_batch_size\"\n",
    "        ]\n",
    "\n",
    "        test_likelihoods_json_path = os.path.join(path, \"0\", \"test_likelihoods.json\")\n",
    "        with open(test_likelihoods_json_path, \"r\") as f:\n",
    "            likelihoods_data = json.load(f)\n",
    "\n",
    "        stitch_frontiers_json_path = os.path.join(\n",
    "            path, \"0\", \"train\", \"stitch_frontiers.json\"\n",
    "        )\n",
    "        with open(stitch_frontiers_json_path, \"r\") as f:\n",
    "            stitch_frontiers_data = json.load(f)\n",
    "\n",
    "        for task_name, ll_list in likelihoods_data[\"log_likelihoods_by_task\"][\n",
    "            \"test\"\n",
    "        ].items():\n",
    "            data.append(\n",
    "                {\n",
    "                    \"batch_size\": global_batch_size,\n",
    "                    \"task_name\": task_name,\n",
    "                    \"log_likelihood\": ll_list[0],\n",
    "                    \"n_frontiers\": len(stitch_frontiers_data[\"frontiers\"]),\n",
    "                }\n",
    "            )\n",
    "\n",
    "    df = pd.DataFrame(data)\n",
    "    return df"
   ]
  },
  {
   "cell_type": "code",
   "execution_count": null,
   "id": "542d595f-1bcd-4945-99c3-f5979bc49ef4",
   "metadata": {},
   "outputs": [],
   "source": [
    "df1 = get_log_likelihoods(DIR_ITERATIVE_BASELINE)\n",
    "df1[\"condition\"] = \"Stitch\"\n",
    "\n",
    "df2 = None\n",
    "\n",
    "df2 = get_log_likelihoods(DIR_ITERATIVE_CODEX)\n",
    "df2[\"condition\"] = \"Stitch + Codex\""
   ]
  },
  {
   "cell_type": "code",
   "execution_count": null,
   "id": "11a6e017-cabb-487f-b2a9-60a259966502",
   "metadata": {},
   "outputs": [],
   "source": [
    "df = pd.concat([df1, df2], axis=0).reset_index(drop=True)"
   ]
  },
  {
   "cell_type": "code",
   "execution_count": null,
   "id": "b4e6bb96-5b8b-4b39-913c-e2a1c4d32923",
   "metadata": {},
   "outputs": [],
   "source": [
    "g = sns.lineplot(data=df, x=\"batch_size\", y=\"log_likelihood\", hue=\"condition\")\n",
    "g.set(xscale=\"log\");"
   ]
  },
  {
   "cell_type": "code",
   "execution_count": null,
   "id": "e0bcec30-c41f-4719-b8c2-8347cbc9b435",
   "metadata": {},
   "outputs": [],
   "source": [
    "sns.pointplot(data=df, x=\"batch_size\", y=\"log_likelihood\", hue=\"condition\")"
   ]
  },
  {
   "cell_type": "code",
   "execution_count": null,
   "id": "45621240-02f7-40c2-9ac1-0bcbbc27776c",
   "metadata": {},
   "outputs": [],
   "source": [
    "sns.pointplot(data=df, x=\"batch_size\", y=\"n_frontiers\", hue=\"condition\")"
   ]
  },
  {
   "cell_type": "code",
   "execution_count": null,
   "id": "89da8384-b5c9-4231-b9f3-1cfe9f194277",
   "metadata": {},
   "outputs": [],
   "source": [
    "sns.pointplot(data=df, x=\"n_frontiers\", y=\"log_likelihood\", hue=\"condition\")"
   ]
  },
  {
   "cell_type": "markdown",
   "id": "9cba3a95-ef44-422b-b1e9-a270e3fb6349",
   "metadata": {},
   "source": [
    "## What programs does Codex generate?"
   ]
  },
  {
   "cell_type": "code",
   "execution_count": null,
   "id": "8ace5f79-8f26-4119-a6a3-69e126026c04",
   "metadata": {},
   "outputs": [],
   "source": [
    "BATCH_SIZE = 25\n",
    "codex_query_results_json_path = f\"../experiments/outputs/compositional_graphics/logo_codex_stitch_iterative/logo_codex_stitch_iterative_{BATCH_SIZE}/0/codex_query_results.json\"\n",
    "\n",
    "with open(codex_query_results_json_path, \"r\") as f:\n",
    "    codex_query_results = json.load(f)"
   ]
  },
  {
   "cell_type": "code",
   "execution_count": null,
   "id": "102c8ad0-fe87-4678-bcd6-a33cb6ad1f20",
   "metadata": {},
   "outputs": [],
   "source": [
    "data = []\n",
    "for p in codex_query_results[\"prompt_programs\"]:\n",
    "    data.append(\n",
    "        {\n",
    "            \"program\": p,\n",
    "            \"origin\": \"train\",\n",
    "            \"valid\": True,\n",
    "        }\n",
    "    )\n",
    "for p in codex_query_results[\"programs_valid\"]:\n",
    "    data.append(\n",
    "        {\n",
    "            \"program\": p,\n",
    "            \"origin\": \"codex\",\n",
    "            \"valid\": True,\n",
    "        }\n",
    "    )\n",
    "for p in codex_query_results[\"programs_invalid\"]:\n",
    "    data.append(\n",
    "        {\n",
    "            \"program\": p,\n",
    "            \"origin\": \"codex\",\n",
    "            \"valid\": False,\n",
    "        }\n",
    "    )\n",
    "\n",
    "df = pd.DataFrame(data)\n",
    "df[\"program_str_len\"] = df.program.str.len()"
   ]
  },
  {
   "cell_type": "code",
   "execution_count": null,
   "id": "c618dd2d-638f-415f-ac08-a8e6a431487f",
   "metadata": {},
   "outputs": [],
   "source": [
    "print(f\"+ From {BATCH_SIZE} training programs, Codex generated {len(df[df.origin == 'codex'])} programs, for a total of {len(df)} programs.\")\n",
    "print(f\"+ Of these, {len(df[(df.origin == 'codex') & (df.valid)])} were valid and {len(df[(df.origin == 'codex') & (~df.valid)])} were invalid.\")\n",
    "print(f\"+ In total, there were {df['program'].nunique()} unique programs; {df[df.valid]['program'].nunique()} were valid.\")\n",
    "\n",
    "copied_programs = set(codex_query_results[\"programs_valid\"]) & set(codex_query_results[\"prompt_programs\"])\n",
    "print(f\"+ {len(copied_programs)} of the Codex programs were direct copies from the training data.\")"
   ]
  },
  {
   "cell_type": "code",
   "execution_count": null,
   "id": "ce971eba-afc7-4f63-908f-aa6533e8f704",
   "metadata": {},
   "outputs": [],
   "source": [
    "sns.displot(data=df, x=\"program_str_len\", hue=\"valid\", col=\"origin\")"
   ]
  },
  {
   "cell_type": "code",
   "execution_count": null,
   "id": "ca788987-21c2-4d0c-8550-d650f27a8e15",
   "metadata": {},
   "outputs": [],
   "source": [
    "df.program[df.origin == \"train\"].tolist()"
   ]
  },
  {
   "cell_type": "code",
   "execution_count": null,
   "id": "b5f41f18-086b-4969-813c-ef24f3cf95d0",
   "metadata": {},
   "outputs": [],
   "source": [
    "df.program[df.origin == \"codex\"].tolist()"
   ]
  },
  {
   "cell_type": "code",
   "execution_count": null,
   "id": "d2cbc8d2-26a3-4db2-8245-898358689691",
   "metadata": {},
   "outputs": [],
   "source": []
  }
 ],
 "metadata": {
  "kernelspec": {
   "display_name": "Python 3 (ipykernel)",
   "language": "python",
   "name": "python3"
  },
  "language_info": {
   "codemirror_mode": {
    "name": "ipython",
    "version": 3
   },
   "file_extension": ".py",
   "mimetype": "text/x-python",
   "name": "python",
   "nbconvert_exporter": "python",
   "pygments_lexer": "ipython3",
   "version": "3.7.7"
  }
 },
 "nbformat": 4,
 "nbformat_minor": 5
}
