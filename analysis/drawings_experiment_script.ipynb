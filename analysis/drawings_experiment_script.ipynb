{
 "cells": [
  {
   "cell_type": "code",
   "execution_count": null,
   "id": "d704e2c4-49ca-4380-9d0e-155170c9e1f7",
   "metadata": {},
   "outputs": [],
   "source": [
    "import sys\n",
    "\n",
    "sys.path.append(\"../\")"
   ]
  },
  {
   "cell_type": "code",
   "execution_count": null,
   "id": "a3196692-3f0e-41b8-bcd7-f161574d6284",
   "metadata": {},
   "outputs": [],
   "source": [
    "import json\n",
    "\n",
    "import data.drawings.make_tasks as drawing_tasks"
   ]
  },
  {
   "cell_type": "code",
   "execution_count": null,
   "id": "507d19f4-00ab-4ff1-8eac-4341840ba968",
   "metadata": {},
   "outputs": [],
   "source": [
    "EXPERIMENT_NAME = \"gg_laps_domains\"\n",
    "RANDOM_SEEDS = [\"111\", \"222\", \"333\"]\n",
    "\n",
    "BASH_FILE = \"../run_experiments_clevr.sh\"\n",
    "\n",
    "# DOMAINS = [f\"drawings_{domain}\" for domain in drawing_tasks.TASK_DOMAINS]\n",
    "# DOMAINS = [DOMAINS[0]]\n",
    "# DOMAINS = [\"re2\"]\n",
    "DOMAINS = [\"clevr\"]\n",
    "print(DOMAINS)"
   ]
  },
  {
   "cell_type": "code",
   "execution_count": null,
   "id": "bcb7a845-ea06-4d2b-90b0-edb366f93492",
   "metadata": {},
   "outputs": [],
   "source": [
    "EXPERIMENT_TYPES = [\n",
    "    \"stitch\",\n",
    "    \"oracle\",\n",
    "    \"oracle_train_test\",\n",
    "    \"stitch_codex\",\n",
    "    \"stitch_codex_language\",\n",
    "    \"stitch_codex_language_origin_random_test\",\n",
    "]\n",
    "print(EXPERIMENT_TYPES)"
   ]
  },
  {
   "cell_type": "code",
   "execution_count": null,
   "id": "34aa4020-c922-40fc-8935-d04f1c8b1930",
   "metadata": {},
   "outputs": [],
   "source": [
    "cmds = []\n",
    "for domain in DOMAINS:\n",
    "    for experiment_type in EXPERIMENT_TYPES:\n",
    "        cmd = (\n",
    "            f\"python run_iterative_experiment.py --experiment_name {EXPERIMENT_NAME} --domain {domain} --experiment_type {experiment_type} \"\n",
    "            + \"--stitch_params '{\\\"iterations\\\": 10}' \"\n",
    "        )\n",
    "        if \"codex\" in experiment_type:\n",
    "            seeds = RANDOM_SEEDS\n",
    "\n",
    "            codex_params = {\n",
    "                \"n_tasks_per_prompt\": 25,\n",
    "                \"n_samples\": 50,\n",
    "                \"n_samples_per_query\": 5,\n",
    "                \"final_task_origin\": \"default\",\n",
    "                \"body_task_types\": [\"programs\"],\n",
    "                \"final_task_types\": [\"programs\"],\n",
    "                \"function_name_classes\": [\"human_readable\"],\n",
    "            }\n",
    "\n",
    "            if \"language\" in experiment_type:\n",
    "                codex_params.update(\n",
    "                    {\n",
    "                        \"body_task_types\": [\"language\", \"programs\"],\n",
    "                        \"final_task_types\": [\"language\"],\n",
    "                    }\n",
    "                )\n",
    "            cmd += f\"--codex_params '{json.dumps(codex_params)}' \"\n",
    "            cmd += \"--use_cached \"\n",
    "        else:\n",
    "            seeds = [RANDOM_SEEDS[0]]\n",
    "\n",
    "        cmd += f\"--random_seeds {' '.join(seeds)} \"\n",
    "        cmd += \"\\n\"\n",
    "        cmds.append(cmd)\n",
    "\n",
    "print(cmds[0])"
   ]
  },
  {
   "cell_type": "code",
   "execution_count": null,
   "id": "b6d02405-0540-4911-8fac-27cd8acbdc0e",
   "metadata": {},
   "outputs": [],
   "source": [
    "with open(BASH_FILE, \"w\") as f:\n",
    "    f.writelines(cmds)"
   ]
  },
  {
   "cell_type": "code",
   "execution_count": null,
   "id": "bae4b726-8fed-471a-8207-31701e19db4a",
   "metadata": {},
   "outputs": [],
   "source": []
  },
  {
   "cell_type": "code",
   "execution_count": null,
   "id": "19aa359e-5490-4ba0-9f55-c523f6d48db9",
   "metadata": {},
   "outputs": [],
   "source": []
  }
 ],
 "metadata": {
  "kernelspec": {
   "display_name": "Python 3 (ipykernel)",
   "language": "python",
   "name": "python3"
  },
  "language_info": {
   "codemirror_mode": {
    "name": "ipython",
    "version": 3
   },
   "file_extension": ".py",
   "mimetype": "text/x-python",
   "name": "python",
   "nbconvert_exporter": "python",
   "pygments_lexer": "ipython3",
   "version": "3.7.7"
  }
 },
 "nbformat": 4,
 "nbformat_minor": 5
}
