{
 "cells": [
  {
   "cell_type": "code",
   "execution_count": null,
   "id": "127e5739-ab6f-4366-8cb0-9ed7831b323a",
   "metadata": {
    "tags": []
   },
   "outputs": [],
   "source": [
    "import sys\n",
    "\n",
    "sys.path.append(\"../\")"
   ]
  },
  {
   "cell_type": "code",
   "execution_count": null,
   "id": "6d05dfe6-bcda-49a6-8dfe-0bbb8aabc776",
   "metadata": {
    "tags": []
   },
   "outputs": [],
   "source": [
    "%load_ext autoreload\n",
    "%autoreload 2"
   ]
  },
  {
   "cell_type": "code",
   "execution_count": null,
   "id": "761c44dd-cc16-472d-ab17-6a4da905ee31",
   "metadata": {
    "tags": []
   },
   "outputs": [],
   "source": [
    "import os\n",
    "\n",
    "import pandas as pd\n",
    "import seaborn as sns\n",
    "from matplotlib import pyplot as plt\n",
    "\n",
    "# import data.drawings.make_tasks as drawing_tasks\n",
    "from src.analysis_utilities import SynthesisExperimentAnalyzer\n",
    "from src.config_builder import ExperimentType"
   ]
  },
  {
   "cell_type": "code",
   "execution_count": null,
   "id": "733f0af1-ba20-42ac-b20d-37b5a57fb174",
   "metadata": {
    "tags": []
   },
   "outputs": [],
   "source": [
    "sns.set_theme(style=\"whitegrid\", font_scale=1.25, rc={'figure.figsize':(12, 8)})"
   ]
  },
  {
   "cell_type": "code",
   "execution_count": null,
   "id": "3b4af981-5d9c-45f0-90f7-f7b271d09d6d",
   "metadata": {
    "tags": []
   },
   "outputs": [],
   "source": [
    "%config InlineBackend.figure_format = 'retina'"
   ]
  },
  {
   "cell_type": "code",
   "execution_count": null,
   "id": "cc3d9aab-5299-4d8c-b85c-36c114e04dab",
   "metadata": {
    "tags": []
   },
   "outputs": [],
   "source": [
    "EXPERIMENT_NAME = \"runs_re2\"\n",
    "DOMAIN = \"re2\"\n",
    "\n",
    "# EXPERIMENT_NAME = \"runs_clevr\"\n",
    "# DOMAIN = \"clevr\"\n",
    "\n",
    "# EXPERIMENT_NAME = \"runs_logo\"\n",
    "# DOMAIN = \"logo\"\n",
    "\n",
    "COMPUTE_LIKELIHOODS = True\n",
    "\n",
    "FIGURES_DIR = os.path.join(\"figures\", EXPERIMENT_NAME)\n",
    "FIGURES_DOMAIN_DIR = os.path.join(\"figures\", EXPERIMENT_NAME, DOMAIN)\n",
    "os.makedirs(FIGURES_DOMAIN_DIR, exist_ok=True)"
   ]
  },
  {
   "cell_type": "code",
   "execution_count": null,
   "id": "96562e12-5032-4bcf-85c4-aa332f3e75d3",
   "metadata": {
    "tags": []
   },
   "outputs": [],
   "source": [
    "analyzer = SynthesisExperimentAnalyzer(\n",
    "    experiment_name=EXPERIMENT_NAME,\n",
    "    allow_incomplete_results=True,\n",
    "    compute_likelihoods=COMPUTE_LIKELIHOODS,\n",
    "    batch_size = 96,\n",
    "    seeds = [111, 222, 333],\n",
    ")"
   ]
  },
  {
   "cell_type": "markdown",
   "id": "e2c96def-c4b3-4050-97c3-0e1d90b5f64a",
   "metadata": {},
   "source": [
    "## Runtime metrics"
   ]
  },
  {
   "cell_type": "code",
   "execution_count": null,
   "id": "633976c1-a48f-437b-b70c-e245b50209b3",
   "metadata": {
    "tags": []
   },
   "outputs": [],
   "source": [
    "df_runtime = analyzer.get_runtime_metrics()\n",
    "df_runtime"
   ]
  },
  {
   "cell_type": "code",
   "execution_count": null,
   "id": "50deb575-83f4-45bc-846a-d4ce5e5d34a6",
   "metadata": {
    "tags": []
   },
   "outputs": [],
   "source": [
    "df_runtime.groupby([\"domain\", \"experiment_type\", \"seed\", \"model_type\", \"model_fn\", \"task_split\"]).time_elapsed.agg(\"mean\")"
   ]
  },
  {
   "cell_type": "markdown",
   "id": "42fbcab4",
   "metadata": {},
   "source": [
    "# Analysis 1: Tasks solved over time"
   ]
  },
  {
   "cell_type": "markdown",
   "id": "4f6261db-0973-4569-8274-c897b830a1e0",
   "metadata": {},
   "source": [
    "### Tasks solved vs. LAPS iteration"
   ]
  },
  {
   "cell_type": "code",
   "execution_count": null,
   "id": "8c6fb146-027a-4926-9720-8a7030719674",
   "metadata": {
    "tags": []
   },
   "outputs": [],
   "source": [
    "df = analyzer.get_synthesis_results_for_domain(\n",
    "    DOMAIN,\n",
    "    experiment_types=[\"baseline_dreamcoder\", \"gpt_generation\", \"gpt_solver\", \"gpt_solver_stitch\", \"gpt_3_5_turbo\"]\n",
    ")\n",
    "\n",
    "# df = analyzer.get_synthesis_results_for_domain(\n",
    "#     DOMAIN,\n",
    "# )\n",
    "df"
   ]
  },
  {
   "cell_type": "code",
   "execution_count": null,
   "id": "95d26cd9-a05e-4197-9395-e5c64a515755",
   "metadata": {
    "tags": []
   },
   "outputs": [],
   "source": [
    "df_results = (\n",
    "    df[df.programs.astype(bool)]\n",
    "    .groupby([\"experiment_type\", \"seed\", \"iteration\", \"split\"])\n",
    "    .task.count()\n",
    "    .reset_index(name=\"n_solved\")\n",
    ")\n",
    "\n",
    "df_results"
   ]
  },
  {
   "cell_type": "code",
   "execution_count": null,
   "id": "efe61691-174f-4fa2-9068-dbb73a222e5f",
   "metadata": {
    "tags": []
   },
   "outputs": [],
   "source": [
    "sns.lineplot(\n",
    "    data=df_results, \n",
    "    x=\"iteration\", \n",
    "    y=\"n_solved\", \n",
    "    hue=\"experiment_type\",\n",
    "    style=\"split\",\n",
    "    markers=True,\n",
    ")\n",
    "plt.title(f\"{DOMAIN}\")"
   ]
  },
  {
   "cell_type": "code",
   "execution_count": null,
   "id": "3f2c0332-92c1-48cc-9993-f356e72bdcb6",
   "metadata": {
    "tags": []
   },
   "outputs": [],
   "source": [
    "sns.relplot(\n",
    "    data=df_results,\n",
    "    kind=\"line\",\n",
    "    col=\"split\",\n",
    "    x=\"iteration\", \n",
    "    y=\"n_solved\", \n",
    "    hue=\"experiment_type\",\n",
    "    # style=\"seed\",\n",
    "    markers=True,\n",
    "    errorbar=\"se\"\n",
    ")\n",
    "plt.suptitle(f\"{DOMAIN}\")"
   ]
  },
  {
   "cell_type": "markdown",
   "id": "9901adf0-8b67-4ec0-b666-256ffb3d5fd1",
   "metadata": {},
   "source": [
    "### Tasks solved vs. search time"
   ]
  },
  {
   "cell_type": "code",
   "execution_count": null,
   "id": "35341547-94d4-4b2f-b362-76ee4e3f3939",
   "metadata": {
    "tags": []
   },
   "outputs": [],
   "source": [
    "df_search_time = analyzer.get_search_time_results_for_domain(DOMAIN)\n",
    "df_search_time"
   ]
  },
  {
   "cell_type": "code",
   "execution_count": null,
   "id": "fee09958",
   "metadata": {
    "tags": []
   },
   "outputs": [],
   "source": [
    "g = sns.lineplot(\n",
    "    data=df_search_time[df_search_time.split == \"train\"],\n",
    "    x=\"time\",\n",
    "    y=\"n_solved\",\n",
    "    # hue=\"seed\",\n",
    "    hue=\"iteration\",\n",
    "    size=\"iteration\",\n",
    "    legend=\"full\",\n",
    "    errorbar=\"se\",\n",
    ")\n",
    "g.set(xscale='symlog')\n",
    "plt.title(f\"{DOMAIN} (train)\")"
   ]
  },
  {
   "cell_type": "code",
   "execution_count": null,
   "id": "a05e7ed4-ee0b-4d7b-96d7-d2e2c559fff1",
   "metadata": {
    "tags": []
   },
   "outputs": [],
   "source": [
    "g = sns.relplot(\n",
    "    data=df_search_time[df_search_time.split == \"train\"],\n",
    "    col=\"experiment_type\",\n",
    "    x=\"time\",\n",
    "    y=\"n_solved\",\n",
    "    hue=\"iteration\",\n",
    "    size=\"iteration\",\n",
    "    legend=\"full\",\n",
    "    kind=\"line\",\n",
    "    errorbar=\"se\",\n",
    ")\n",
    "g.set(xscale='symlog')\n",
    "plt.suptitle(f\"{DOMAIN} (train)\")"
   ]
  },
  {
   "cell_type": "code",
   "execution_count": null,
   "id": "a9f58e46-1e53-495a-9aeb-cfefb7d40ae0",
   "metadata": {
    "tags": []
   },
   "outputs": [],
   "source": [
    "g = sns.lineplot(\n",
    "    data=df_search_time[df_search_time.split == \"test\"],\n",
    "    x=\"time\",\n",
    "    y=\"n_solved\",\n",
    "    # hue=\"seed\",\n",
    "    hue=\"iteration\",\n",
    "    size=\"iteration\",\n",
    "    legend=\"full\",\n",
    "    errorbar=\"se\",\n",
    ")\n",
    "g.set(xscale='symlog')\n",
    "plt.title(f\"{DOMAIN} (test)\")"
   ]
  },
  {
   "cell_type": "code",
   "execution_count": null,
   "id": "abad44df-1d30-49df-8ef6-2066dd1c737b",
   "metadata": {
    "tags": []
   },
   "outputs": [],
   "source": [
    "g = sns.relplot(\n",
    "    data=df_search_time[df_search_time.split == \"test\"],\n",
    "    col=\"experiment_type\",\n",
    "    x=\"time\",\n",
    "    y=\"n_solved\",\n",
    "    hue=\"iteration\",\n",
    "    size=\"iteration\",\n",
    "    legend=\"full\",\n",
    "    kind=\"line\",\n",
    "    errorbar=\"se\",\n",
    ")\n",
    "g.set(xscale='symlog')\n",
    "plt.suptitle(f\"{DOMAIN} (test)\")"
   ]
  },
  {
   "cell_type": "markdown",
   "id": "3f9da82e",
   "metadata": {},
   "source": [
    "# Analysis 2: Library abstractions"
   ]
  },
  {
   "cell_type": "code",
   "execution_count": null,
   "id": "7b9b3e2f-9d5c-403a-8f30-4e80b79f13fe",
   "metadata": {
    "tags": []
   },
   "outputs": [],
   "source": [
    "df_abstractions = analyzer.get_abstractions_for_domain(DOMAIN)\n",
    "df_abstractions.to_csv(f\"{DOMAIN}_abstractions.csv\", index=False)\n",
    "df_abstractions"
   ]
  },
  {
   "cell_type": "code",
   "execution_count": null,
   "id": "9579d789-d2dc-47df-908b-b33be49d9e58",
   "metadata": {
    "tags": []
   },
   "outputs": [],
   "source": [
    "ax = sns.relplot(data=df_abstractions.query(\"random_seed == 111\").sort_values(by=[\"dreamcoder\"], key=lambda x: x.str.len()), kind=\"line\", col=\"experiment_type\", y=\"dreamcoder\", x=\"iteration\", hue=\"name\", size=\"name\")\n",
    "ax.set(yticklabels=[])\n",
    "plt.show()"
   ]
  },
  {
   "cell_type": "code",
   "execution_count": null,
   "id": "198d32a6",
   "metadata": {
    "tags": []
   },
   "outputs": [],
   "source": [
    "with pd.option_context('display.max_colwidth', None, 'display.max_rows', None):\n",
    "    display(df_abstractions.sort_values([\"experiment_type\", \"random_seed\", \"name\", \"iteration\"])[[\"experiment_type\", \"random_seed\", \"name\", \"iteration\", \"arity\", \"compression_ratio\", \"dreamcoder\"]])"
   ]
  },
  {
   "cell_type": "code",
   "execution_count": null,
   "id": "01ffb5f2",
   "metadata": {
    "tags": []
   },
   "outputs": [],
   "source": [
    "sns.lineplot(data=df_abstractions, x=\"name\", y=\"compression_ratio\", size=\"iteration\")"
   ]
  },
  {
   "cell_type": "code",
   "execution_count": null,
   "id": "89a85379",
   "metadata": {
    "tags": []
   },
   "outputs": [],
   "source": [
    "sns.lineplot(data=df_abstractions, x=\"name\", y=\"cumulative_compression_ratio\", size=\"iteration\", hue=\"iteration\")\n",
    "plt.title(f\"{DOMAIN} compressivity of library\")"
   ]
  },
  {
   "cell_type": "code",
   "execution_count": null,
   "id": "5564ce27-6a8b-4ac2-aa22-0d3578297445",
   "metadata": {
    "tags": []
   },
   "outputs": [],
   "source": [
    "sns.relplot(data=df_abstractions, kind=\"line\", errorbar=\"se\", col=\"experiment_type\", x=\"name\", y=\"cumulative_compression_ratio\", size=\"iteration\", hue=\"iteration\")\n",
    "plt.suptitle(f\"{DOMAIN} compressivity of library\")"
   ]
  },
  {
   "cell_type": "markdown",
   "id": "5a81505d",
   "metadata": {},
   "source": [
    "# Analysis 3: Solved programs"
   ]
  },
  {
   "cell_type": "code",
   "execution_count": null,
   "id": "2a77f8f3",
   "metadata": {
    "tags": []
   },
   "outputs": [],
   "source": [
    "df = analyzer.get_synthesis_results_for_domain(DOMAIN)\n",
    "df.to_csv(f\"{DOMAIN}_search_results.csv\")"
   ]
  },
  {
   "cell_type": "markdown",
   "id": "bc3fa098-c527-4166-8348-119872073fbb",
   "metadata": {},
   "source": [
    "# re2-specific analysis"
   ]
  },
  {
   "cell_type": "code",
   "execution_count": null,
   "id": "9f39743c-9198-4815-9453-9daa9c37e634",
   "metadata": {
    "tags": []
   },
   "outputs": [],
   "source": [
    "import re\n",
    "\n",
    "def atoi(text):\n",
    "    return int(text) if text.isdigit() else text\n",
    "\n",
    "def task_order(keys):\n",
    "    return [int(re.split(r'(\\d+)', k[len(\"re2_test_\"):])[1]) for k in keys]\n",
    "\n",
    "def alpha_order(keys):\n",
    "    return [re.split(r'(\\d+)', k[len(\"re2_test_\"):])[-1] for k in keys]"
   ]
  },
  {
   "cell_type": "code",
   "execution_count": null,
   "id": "1b2181c8-34b1-44d5-b08c-ccc037cfc7fc",
   "metadata": {
    "tags": []
   },
   "outputs": [],
   "source": [
    "ITERATION = 6\n",
    "SEED = 111\n",
    "\n",
    "df_solved = df.copy()\n",
    "df_solved = df_solved.query(\"split == 'test'\").query(f\"iteration == {ITERATION}\").query(f\"seed == {SEED}\")\n",
    "df_solved = df_solved[[\"task\", \"experiment_type\", \"solved\"]]\n",
    "df_solved.groupby(\"experiment_type\").sum()"
   ]
  },
  {
   "cell_type": "code",
   "execution_count": null,
   "id": "b8c9f7c3-0eb2-4340-acea-476a5207565a",
   "metadata": {
    "tags": []
   },
   "outputs": [],
   "source": [
    "df_solved"
   ]
  },
  {
   "cell_type": "code",
   "execution_count": null,
   "id": "c9e784fe-7b04-498a-9426-1d82aaf9d3fb",
   "metadata": {
    "tags": []
   },
   "outputs": [],
   "source": [
    "df_solved_sorted = df_solved[[\"task\", \"experiment_type\", \"solved\"]].pivot(index=\"task\", columns=[\"experiment_type\"])\n",
    "df_solved_sorted = df_solved_sorted.sort_values(by=\"task\", key=task_order)"
   ]
  },
  {
   "cell_type": "code",
   "execution_count": null,
   "id": "2e279bdc-6e2f-406b-b1a2-8df67ee7224d",
   "metadata": {
    "tags": []
   },
   "outputs": [],
   "source": [
    "def set_color(val):\n",
    "    return f\"color: {'green' if val else 'red'}\"\n",
    "\n",
    "with pd.option_context('display.max_rows', None, 'display.max_colwidth', None):\n",
    "    df_display = df_solved_sorted.reset_index(level=0)\n",
    "    df_display = df_display.style.set_properties(**{'text-align': 'left'}).applymap(set_color)\n",
    "    display(df_display)"
   ]
  },
  {
   "cell_type": "code",
   "execution_count": null,
   "id": "76715bd4-7002-44d1-917e-48d663b7fc22",
   "metadata": {},
   "outputs": [],
   "source": []
  },
  {
   "cell_type": "code",
   "execution_count": null,
   "id": "ec164599-f2b7-4969-98ca-4a5df68babd3",
   "metadata": {},
   "outputs": [],
   "source": [
    "df_vowel = df[df.task.str.contains(\"vowel\")]\n",
    "df_vowel = df_vowel.query(\"experiment_type == 'gpt_solver'\").query(f\"seed == {SEED}\").query(f\"iteration == {ITERATION}\").query(\"solved\")\n",
    "df_vowel = df_vowel.sort_values(by=\"task\", key=task_order)"
   ]
  },
  {
   "cell_type": "code",
   "execution_count": null,
   "id": "9c9a0bf2-bd08-485e-a8aa-45340c1f3777",
   "metadata": {
    "tags": []
   },
   "outputs": [],
   "source": [
    "df_vowel.groupby(\"split\").task.nunique()"
   ]
  },
  {
   "cell_type": "code",
   "execution_count": null,
   "id": "2e8afffa-9c16-4f0d-9877-429c0971fe37",
   "metadata": {
    "tags": []
   },
   "outputs": [],
   "source": [
    "for _, row in df_vowel.iterrows():\n",
    "    print(row.task)\n",
    "    for p_data in row.programs:\n",
    "        print(p_data[\"program\"])\n",
    "    print()"
   ]
  },
  {
   "cell_type": "code",
   "execution_count": null,
   "id": "9eb9b2b7-ae94-4de9-933f-28a24b6b857e",
   "metadata": {},
   "outputs": [],
   "source": []
  }
 ],
 "metadata": {
  "kernelspec": {
   "display_name": "Python 3 (ipykernel)",
   "language": "python",
   "name": "python3"
  },
  "language_info": {
   "codemirror_mode": {
    "name": "ipython",
    "version": 3
   },
   "file_extension": ".py",
   "mimetype": "text/x-python",
   "name": "python",
   "nbconvert_exporter": "python",
   "pygments_lexer": "ipython3",
   "version": "3.7.12"
  }
 },
 "nbformat": 4,
 "nbformat_minor": 5
}
