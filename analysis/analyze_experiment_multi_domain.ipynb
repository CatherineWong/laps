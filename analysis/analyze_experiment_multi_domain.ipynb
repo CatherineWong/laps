{
 "cells": [
  {
   "cell_type": "code",
   "execution_count": null,
   "id": "a5285f8b-7b08-4c03-a5dc-bf08293c7b39",
   "metadata": {},
   "outputs": [],
   "source": [
    "import sys\n",
    "\n",
    "sys.path.append(\"../\")"
   ]
  },
  {
   "cell_type": "code",
   "execution_count": null,
   "id": "73bad25f-b75e-4290-8c74-1ed7deb48c54",
   "metadata": {},
   "outputs": [],
   "source": [
    "%load_ext autoreload\n",
    "%autoreload 2"
   ]
  },
  {
   "cell_type": "code",
   "execution_count": null,
   "id": "cf378b7d-2e23-4346-a245-033274dd5e3a",
   "metadata": {},
   "outputs": [],
   "source": [
    "import os\n",
    "\n",
    "import data.drawings.make_tasks as drawing_tasks\n",
    "import pandas as pd\n",
    "import seaborn as sns\n",
    "from matplotlib import pyplot as plt\n",
    "from src.analysis_utilities import IterativeExperimentAnalyzer\n",
    "from src.config_builder import ExperimentType"
   ]
  },
  {
   "cell_type": "code",
   "execution_count": null,
   "id": "bdd76c88-a723-46bb-9734-519173f33fad",
   "metadata": {},
   "outputs": [],
   "source": [
    "%config InlineBackend.figure_format = 'retina'"
   ]
  },
  {
   "cell_type": "code",
   "execution_count": null,
   "id": "5a4f3795-b5fb-42e3-b019-a3afb92fef5d",
   "metadata": {},
   "outputs": [],
   "source": [
    "# EXPERIMENT_NAME = \"gg_drawings\"\n",
    "\n",
    "# DOMAIN_NAMES_CAMERA = {\n",
    "#     \"drawings_nuts_bolts\": \"nuts & bolts\",\n",
    "#     \"drawings_wheels\": \"vehicles\",\n",
    "#     \"drawings_dials\": \"gadgets\",\n",
    "#     \"drawings_furniture\": \"furniture\",\n",
    "# }"
   ]
  },
  {
   "cell_type": "code",
   "execution_count": null,
   "id": "fc0dc386-e54c-4271-88af-c4280cb26c43",
   "metadata": {},
   "outputs": [],
   "source": [
    "EXPERIMENT_NAME = \"gg_laps_domains\"\n",
    "\n",
    "DOMAIN_NAMES_CAMERA = {\n",
    "    \"re2\": \"REGEX\",\n",
    "    \"clevr\": \"CLEVR\",\n",
    "}"
   ]
  },
  {
   "cell_type": "code",
   "execution_count": null,
   "id": "fc8a4ab3-c00b-4892-8713-a5c4c8fd969d",
   "metadata": {},
   "outputs": [],
   "source": [
    "FIGURES_DIR = os.path.join(\"figures\", EXPERIMENT_NAME)\n",
    "os.makedirs(FIGURES_DIR, exist_ok=True)"
   ]
  },
  {
   "cell_type": "markdown",
   "id": "82d33715-5fd3-4570-89e7-681319490289",
   "metadata": {},
   "source": [
    "# Multi-domain analysis"
   ]
  },
  {
   "cell_type": "code",
   "execution_count": null,
   "id": "08207aeb-8829-43fb-93b6-c1367822846d",
   "metadata": {},
   "outputs": [],
   "source": [
    "analyzer_multi = IterativeExperimentAnalyzer(\n",
    "    experiment_name=EXPERIMENT_NAME,\n",
    "    allow_incomplete_results=False,\n",
    ")"
   ]
  },
  {
   "cell_type": "code",
   "execution_count": null,
   "id": "567dbdd3-e9e8-4698-9b2f-274c0e875e24",
   "metadata": {},
   "outputs": [],
   "source": [
    "df_list = []\n",
    "for domain in DOMAIN_NAMES_CAMERA:\n",
    "    df = analyzer_multi.get_results_for_domain(domain=domain)\n",
    "    df[\"domain\"] = DOMAIN_NAMES_CAMERA[domain]\n",
    "    df_list.append(df)\n",
    "df_domains = pd.concat(df_list, axis=0).reset_index(drop=True)"
   ]
  },
  {
   "cell_type": "code",
   "execution_count": null,
   "id": "be0e97d7-0f4e-48c8-ac6f-4fcac99f4cf7",
   "metadata": {},
   "outputs": [],
   "source": [
    "df_domains = analyzer_multi.format_dataframe_camera(df_domains)\n",
    "\n",
    "g = sns.catplot(\n",
    "    data=df_domains,\n",
    "    x=analyzer_multi.COL_NAMES_CAMERA[\"batch_size\"],\n",
    "    y=analyzer_multi.COL_NAMES_CAMERA[\"description_length\"],\n",
    "    hue=analyzer_multi.COL_NAMES_CAMERA[\"experiment_type\"],\n",
    "    col=\"domain\",\n",
    "    col_wrap=2,\n",
    "    kind=\"point\",\n",
    "    sharex=False,\n",
    "    sharey=False,\n",
    "    legend=False,\n",
    "    aspect=1.5,\n",
    "    palette=analyzer_multi.EXPERIMENT_TYPES_PALETTE,\n",
    ")\n",
    "\n",
    "g.set_axis_labels(\n",
    "    analyzer_multi.COL_NAMES_CAMERA[\"batch_size\"],\n",
    "    analyzer_multi.COL_NAMES_CAMERA[\"description_length\"],\n",
    "    fontsize=14,\n",
    ")\n",
    "g.set_xticklabels(size=12)\n",
    "g.set_yticklabels(size=12)\n",
    "g.set_titles(col_template=\"{col_name}\", size=18)\n",
    "\n",
    "lgd = plt.legend(bbox_to_anchor=(1.0, df_domains[\"domain\"].nunique() // 2), loc=\"upper left\", fontsize=18)\n",
    "\n",
    "plt.savefig(\n",
    "    os.path.join(FIGURES_DIR, f\"{EXPERIMENT_NAME}_results_camera.pdf\"),\n",
    "    dpi=300,\n",
    "    bbox_extra_artists=(lgd,),\n",
    "    bbox_inches=\"tight\",\n",
    ")"
   ]
  },
  {
   "cell_type": "code",
   "execution_count": null,
   "id": "5bcc8538-36d7-4b6a-bb97-6cb6947c9d93",
   "metadata": {},
   "outputs": [],
   "source": []
  }
 ],
 "metadata": {
  "kernelspec": {
   "display_name": "Python 3 (ipykernel)",
   "language": "python",
   "name": "python3"
  },
  "language_info": {
   "codemirror_mode": {
    "name": "ipython",
    "version": 3
   },
   "file_extension": ".py",
   "mimetype": "text/x-python",
   "name": "python",
   "nbconvert_exporter": "python",
   "pygments_lexer": "ipython3",
   "version": "3.7.7"
  }
 },
 "nbformat": 4,
 "nbformat_minor": 5
}
