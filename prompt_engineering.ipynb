{
 "cells": [
  {
   "cell_type": "code",
   "execution_count": 31,
   "id": "f7ebbe5c-e2f0-4c6f-9ac5-3a05a8c72c95",
   "metadata": {
    "tags": []
   },
   "outputs": [],
   "source": [
    "import sys\n",
    "\n",
    "sys.path.append(\"../\")"
   ]
  },
  {
   "cell_type": "code",
   "execution_count": 32,
   "id": "8cff7288-a884-4778-849e-6a7512613b8e",
   "metadata": {
    "tags": []
   },
   "outputs": [
    {
     "name": "stdout",
     "output_type": "stream",
     "text": [
      "The autoreload extension is already loaded. To reload it, use:\n",
      "  %reload_ext autoreload\n"
     ]
    }
   ],
   "source": [
    "%load_ext autoreload\n",
    "%autoreload 2"
   ]
  },
  {
   "cell_type": "code",
   "execution_count": 33,
   "id": "8d16aadc-e364-448c-94a5-ad0c410e1935",
   "metadata": {},
   "outputs": [],
   "source": [
    "import os\n",
    "\n",
    "import pandas as pd\n",
    "import seaborn as sns\n",
    "from matplotlib import pyplot as plt\n",
    "\n",
    "from src.models.gpt_base import Prompt\n",
    "from src.models.test_sample_generator import get_sample_generator_and_state, get_train_task_ids\n",
    "\n",
    "from src.task_loaders import *"
   ]
  },
  {
   "cell_type": "code",
   "execution_count": 34,
   "id": "16143a42-b7dd-4e1a-b61a-a25c5502794b",
   "metadata": {
    "tags": []
   },
   "outputs": [],
   "source": [
    "sample_generator, experiment_state = get_sample_generator_and_state()\n",
    "task_ids = get_train_task_ids(experiment_state, n_task_ids=20)\n",
    "n_samples_per_query = 10\n",
    "prompt = Prompt(\n",
    "    experiment_state=experiment_state,\n",
    "    body_task_ids=task_ids[TRAIN][:-1],\n",
    "    final_task_id=task_ids[TRAIN][-1],\n",
    "    prepend_dsl_description=True,\n",
    ")"
   ]
  },
  {
   "cell_type": "code",
   "execution_count": 35,
   "id": "48250e2a-e905-4f1f-aace-75f7413d274f",
   "metadata": {},
   "outputs": [
    {
     "name": "stdout",
     "output_type": "stream",
     "text": [
      "Write programs using the available functions:\n",
      "- 0\n",
      "- 1\n",
      "- 2\n",
      "- 3\n",
      "- 4\n",
      "- 5\n",
      "- 6\n",
      "- 7\n",
      "- 8\n",
      "- 9\n",
      "- logo_PT\n",
      "- logo_UA\n",
      "- logo_UL\n",
      "- logo_ZA\n",
      "- logo_ZL\n",
      "- logo_ADDA\n",
      "- logo_DIVA\n",
      "- logo_DIVL\n",
      "- logo_FWRT\n",
      "- logo_IFTY\n",
      "- logo_MULA\n",
      "- logo_MULL\n",
      "- logo_SUBA\n",
      "- logo_epsA\n",
      "- logo_epsL\n",
      "- logo_GETSET\n",
      "- logo_forLoop\n",
      "\n",
      "Here are some example programs:\n",
      "-- small triangle\n",
      "(lambda (logo_forLoop 3 (lambda (lambda (logo_FWRT (logo_MULL logo_UL 1) (logo_DIVA logo_UA 3) $0))) $0))\n",
      "-- triangles\n",
      "(lambda (logo_forLoop 3 (lambda (lambda (logo_FWRT (logo_MULL logo_UL 2) (logo_DIVA logo_UA 3) $0))) $0))\n",
      "-- 1 large 8 gon in center of page\n",
      "(lambda (logo_forLoop 8 (lambda (lambda (logo_FWRT (logo_MULL logo_UL 1) (logo_DIVA logo_UA 8) $0))) $0))\n",
      "-- a large nonagon next to a medium square\n",
      "(lambda (logo_forLoop 9 (lambda (lambda (logo_FWRT (logo_MULL logo_UL 1) (logo_DIVA logo_UA 9) $0))) (logo_PT (lambda (logo_FWRT (logo_MULL logo_UL 2) logo_ZA $0)) (logo_forLoop 4 (lambda (lambda (logo_FWRT (logo_MULL logo_UL 2) (logo_DIVA logo_UA 4) $0))) $0))))\n",
      "-- nested square\n",
      "(lambda (logo_forLoop 5 (lambda (lambda (logo_GETSET (lambda (logo_forLoop 4 (lambda (lambda (logo_FWRT (logo_MULL logo_UL $4) (logo_DIVA logo_UA 4) $0))) $0)) $0))) $0))\n",
      "-- 4 nested small square s\n",
      "(lambda (logo_forLoop 5 (lambda (lambda (logo_GETSET (lambda (logo_forLoop 4 (lambda (lambda (logo_FWRT (logo_MULL logo_UL $4) (logo_DIVA logo_UA 4) $0))) $0)) $0))) $0))\n",
      "-- ring of 7 overlapped circle s surrounded by 7 5 gon s\n",
      "(lambda (logo_forLoop 7 (lambda (lambda (logo_GETSET (lambda (logo_PT (lambda (logo_FWRT logo_UL logo_ZA $0)) (logo_forLoop logo_IFTY (lambda (lambda (logo_FWRT (logo_MULL logo_epsL 2) logo_epsA $0))) (logo_forLoop logo_IFTY (lambda (lambda (logo_FWRT (logo_MULL logo_epsL 2) logo_epsA $0))) (logo_PT (lambda (logo_FWRT logo_UL logo_ZA $0)) (logo_forLoop 5 (lambda (lambda (logo_FWRT (logo_MULL logo_UL 1) (logo_DIVA logo_UA 5) $0))) $0)))))) (logo_FWRT logo_ZL (logo_DIVA logo_UA 7) $0)))) $0))\n",
      "-- a small dash and a medium 6 gon\n",
      "(lambda (logo_FWRT logo_UL logo_ZA (logo_PT (lambda (logo_FWRT (logo_MULL logo_UL 2) logo_ZA $0)) (logo_forLoop 6 (lambda (lambda (logo_FWRT (logo_MULL logo_UL 1) (logo_DIVA logo_UA 6) $0))) $0))))\n",
      "-- line art\n",
      "(lambda (logo_forLoop 6 (lambda (lambda (logo_GETSET (lambda (logo_FWRT (logo_MULL logo_UL 1) logo_ZA (logo_forLoop logo_IFTY (lambda (lambda (logo_FWRT (logo_MULL logo_epsL 1) logo_epsA $0))) $0))) (logo_FWRT logo_ZL (logo_DIVA logo_UA 6) $0)))) $0))\n",
      "-- 6 pentagon s in a row\n",
      "(lambda (logo_forLoop 6 (lambda (lambda (logo_GETSET (lambda (logo_forLoop 5 (lambda (lambda (logo_FWRT (logo_MULL logo_UL 1) (logo_DIVA logo_UA 5) $0))) $0)) (logo_PT (lambda (logo_FWRT logo_UL logo_ZA $0)) $0)))) $0))\n",
      "-- 3 lined snowflake pattern connected at a point in center 3 smallmedium square s on each line at ends\n",
      "(lambda (logo_forLoop 3 (lambda (lambda (logo_GETSET (lambda (logo_FWRT (logo_MULL logo_UL 1) logo_ZA (logo_forLoop 4 (lambda (lambda (logo_FWRT (logo_MULL logo_UL 1) (logo_DIVA logo_UA 4) $0))) $0))) (logo_FWRT logo_ZL (logo_DIVA logo_UA 3) $0)))) $0))\n",
      "-- flower with hexagon s\n",
      "(lambda (logo_forLoop 6 (lambda (lambda (logo_GETSET (lambda (logo_PT (lambda (logo_FWRT logo_UL logo_ZA $0)) (logo_forLoop 5 (lambda (lambda (logo_FWRT (logo_MULL logo_UL 1) (logo_DIVA logo_UA 5) $0))) (logo_PT (lambda (logo_FWRT logo_UL logo_ZA $0)) (logo_FWRT logo_UL logo_ZA $0))))) (logo_FWRT logo_ZL (logo_DIVA logo_UA 6) $0)))) $0))\n",
      "-- 3 disjoint lines\n",
      "(lambda (logo_forLoop 3 (lambda (lambda (logo_GETSET (lambda (logo_PT (lambda (logo_FWRT logo_UL logo_ZA $0)) (logo_FWRT logo_UL logo_ZA (logo_PT (lambda (logo_FWRT logo_UL logo_ZA $0)) (logo_FWRT logo_UL logo_ZA $0))))) (logo_FWRT logo_ZL (logo_DIVA logo_UA 3) $0)))) $0))\n",
      "-- octogon\n",
      "(lambda (logo_forLoop 8 (lambda (lambda (logo_FWRT (logo_MULL logo_UL 2) (logo_DIVA logo_UA 8) $0))) $0))\n",
      "-- 4 medium semicircle s in a row\n",
      "(lambda (logo_forLoop 4 (lambda (lambda (logo_GETSET (lambda (logo_forLoop logo_IFTY (lambda (lambda (logo_FWRT (logo_MULL logo_epsL 2) logo_epsA $0))) $0)) (logo_PT (lambda (logo_FWRT logo_UL logo_ZA $0)) $0)))) $0))\n",
      "-- a small circle connected at the bottom to a line connected to a small semi circle\n",
      "(lambda (logo_forLoop logo_IFTY (lambda (lambda (logo_FWRT (logo_MULL logo_epsL 1) logo_epsA $0))) (logo_forLoop logo_IFTY (lambda (lambda (logo_FWRT (logo_MULL logo_epsL 1) logo_epsA $0))) (logo_FWRT (logo_MULL logo_UL 5) logo_ZA (logo_forLoop logo_IFTY (lambda (lambda (logo_FWRT (logo_MULL logo_epsL 1) logo_epsA $0))) $0)))))\n",
      "-- i big pentagon and 1 small pentagon inside\n",
      "(lambda (logo_forLoop 5 (lambda (lambda (logo_FWRT (logo_MULL logo_UL 2) (logo_DIVA logo_UA 5) $0))) (logo_PT (lambda (logo_FWRT (logo_MULL logo_UL 2) logo_ZA $0)) (logo_forLoop 5 (lambda (lambda (logo_FWRT (logo_MULL logo_UL 1) (logo_DIVA logo_UA 5) $0))) $0))))\n",
      "-- a 6 sided gon that is divided into 6 triangles on the inside\n",
      "(lambda (logo_forLoop 6 (lambda (lambda (logo_GETSET (lambda (logo_forLoop 3 (lambda (lambda (logo_FWRT (logo_MULL logo_UL 1) (logo_DIVA logo_UA 3) $0))) $0)) (logo_FWRT logo_ZL (logo_DIVA logo_UA 6) $0)))) $0))\n",
      "-- octagon fiolled with 9 balck sied\n",
      "(lambda (logo_forLoop 8 (lambda (lambda (logo_GETSET (lambda (logo_forLoop 3 (lambda (lambda (logo_FWRT (logo_MULL logo_UL 1) (logo_DIVA logo_UA 3) $0))) $0)) (logo_FWRT logo_ZL (logo_DIVA logo_UA 8) $0)))) $0))\n",
      "-- 7 slices forming a circular formation\n",
      "\n"
     ]
    }
   ],
   "source": [
    "print(prompt)"
   ]
  },
  {
   "cell_type": "code",
   "execution_count": 36,
   "id": "5328cc8e-99a3-4d19-b09d-ff5c17ab4125",
   "metadata": {
    "tags": []
   },
   "outputs": [
    {
     "data": {
      "text/plain": [
       "[{'role': 'user',\n",
       "  'content': 'Write programs using the available functions:\\n- 0\\n- 1\\n- 2\\n- 3\\n- 4\\n- 5\\n- 6\\n- 7\\n- 8\\n- 9\\n- logo_PT\\n- logo_UA\\n- logo_UL\\n- logo_ZA\\n- logo_ZL\\n- logo_ADDA\\n- logo_DIVA\\n- logo_DIVL\\n- logo_FWRT\\n- logo_IFTY\\n- logo_MULA\\n- logo_MULL\\n- logo_SUBA\\n- logo_epsA\\n- logo_epsL\\n- logo_GETSET\\n- logo_forLoop\\n\\n'},\n",
       " {'role': 'user', 'content': 'Here are some example programs:\\n'},\n",
       " {'role': 'user', 'content': '-- small triangle\\n'},\n",
       " {'role': 'user',\n",
       "  'content': '(lambda (logo_forLoop 3 (lambda (lambda (logo_FWRT (logo_MULL logo_UL 1) (logo_DIVA logo_UA 3) $0))) $0))\\n'},\n",
       " {'role': 'user', 'content': '-- triangles\\n'},\n",
       " {'role': 'user',\n",
       "  'content': '(lambda (logo_forLoop 3 (lambda (lambda (logo_FWRT (logo_MULL logo_UL 2) (logo_DIVA logo_UA 3) $0))) $0))\\n'},\n",
       " {'role': 'user', 'content': '-- 1 large 8 gon in center of page\\n'},\n",
       " {'role': 'user',\n",
       "  'content': '(lambda (logo_forLoop 8 (lambda (lambda (logo_FWRT (logo_MULL logo_UL 1) (logo_DIVA logo_UA 8) $0))) $0))\\n'},\n",
       " {'role': 'user', 'content': '-- a large nonagon next to a medium square\\n'},\n",
       " {'role': 'user',\n",
       "  'content': '(lambda (logo_forLoop 9 (lambda (lambda (logo_FWRT (logo_MULL logo_UL 1) (logo_DIVA logo_UA 9) $0))) (logo_PT (lambda (logo_FWRT (logo_MULL logo_UL 2) logo_ZA $0)) (logo_forLoop 4 (lambda (lambda (logo_FWRT (logo_MULL logo_UL 2) (logo_DIVA logo_UA 4) $0))) $0))))\\n'},\n",
       " {'role': 'user', 'content': '-- nested square\\n'},\n",
       " {'role': 'user',\n",
       "  'content': '(lambda (logo_forLoop 5 (lambda (lambda (logo_GETSET (lambda (logo_forLoop 4 (lambda (lambda (logo_FWRT (logo_MULL logo_UL $4) (logo_DIVA logo_UA 4) $0))) $0)) $0))) $0))\\n'},\n",
       " {'role': 'user', 'content': '-- 4 nested small square s\\n'},\n",
       " {'role': 'user',\n",
       "  'content': '(lambda (logo_forLoop 5 (lambda (lambda (logo_GETSET (lambda (logo_forLoop 4 (lambda (lambda (logo_FWRT (logo_MULL logo_UL $4) (logo_DIVA logo_UA 4) $0))) $0)) $0))) $0))\\n'},\n",
       " {'role': 'user',\n",
       "  'content': '-- ring of 7 overlapped circle s surrounded by 7 5 gon s\\n'},\n",
       " {'role': 'user',\n",
       "  'content': '(lambda (logo_forLoop 7 (lambda (lambda (logo_GETSET (lambda (logo_PT (lambda (logo_FWRT logo_UL logo_ZA $0)) (logo_forLoop logo_IFTY (lambda (lambda (logo_FWRT (logo_MULL logo_epsL 2) logo_epsA $0))) (logo_forLoop logo_IFTY (lambda (lambda (logo_FWRT (logo_MULL logo_epsL 2) logo_epsA $0))) (logo_PT (lambda (logo_FWRT logo_UL logo_ZA $0)) (logo_forLoop 5 (lambda (lambda (logo_FWRT (logo_MULL logo_UL 1) (logo_DIVA logo_UA 5) $0))) $0)))))) (logo_FWRT logo_ZL (logo_DIVA logo_UA 7) $0)))) $0))\\n'},\n",
       " {'role': 'user', 'content': '-- a small dash and a medium 6 gon\\n'},\n",
       " {'role': 'user',\n",
       "  'content': '(lambda (logo_FWRT logo_UL logo_ZA (logo_PT (lambda (logo_FWRT (logo_MULL logo_UL 2) logo_ZA $0)) (logo_forLoop 6 (lambda (lambda (logo_FWRT (logo_MULL logo_UL 1) (logo_DIVA logo_UA 6) $0))) $0))))\\n'},\n",
       " {'role': 'user', 'content': '-- line art\\n'},\n",
       " {'role': 'user',\n",
       "  'content': '(lambda (logo_forLoop 6 (lambda (lambda (logo_GETSET (lambda (logo_FWRT (logo_MULL logo_UL 1) logo_ZA (logo_forLoop logo_IFTY (lambda (lambda (logo_FWRT (logo_MULL logo_epsL 1) logo_epsA $0))) $0))) (logo_FWRT logo_ZL (logo_DIVA logo_UA 6) $0)))) $0))\\n'},\n",
       " {'role': 'user', 'content': '-- 6 pentagon s in a row\\n'},\n",
       " {'role': 'user',\n",
       "  'content': '(lambda (logo_forLoop 6 (lambda (lambda (logo_GETSET (lambda (logo_forLoop 5 (lambda (lambda (logo_FWRT (logo_MULL logo_UL 1) (logo_DIVA logo_UA 5) $0))) $0)) (logo_PT (lambda (logo_FWRT logo_UL logo_ZA $0)) $0)))) $0))\\n'},\n",
       " {'role': 'user',\n",
       "  'content': '-- 3 lined snowflake pattern connected at a point in center 3 smallmedium square s on each line at ends\\n'},\n",
       " {'role': 'user',\n",
       "  'content': '(lambda (logo_forLoop 3 (lambda (lambda (logo_GETSET (lambda (logo_FWRT (logo_MULL logo_UL 1) logo_ZA (logo_forLoop 4 (lambda (lambda (logo_FWRT (logo_MULL logo_UL 1) (logo_DIVA logo_UA 4) $0))) $0))) (logo_FWRT logo_ZL (logo_DIVA logo_UA 3) $0)))) $0))\\n'},\n",
       " {'role': 'user', 'content': '-- flower with hexagon s\\n'},\n",
       " {'role': 'user',\n",
       "  'content': '(lambda (logo_forLoop 6 (lambda (lambda (logo_GETSET (lambda (logo_PT (lambda (logo_FWRT logo_UL logo_ZA $0)) (logo_forLoop 5 (lambda (lambda (logo_FWRT (logo_MULL logo_UL 1) (logo_DIVA logo_UA 5) $0))) (logo_PT (lambda (logo_FWRT logo_UL logo_ZA $0)) (logo_FWRT logo_UL logo_ZA $0))))) (logo_FWRT logo_ZL (logo_DIVA logo_UA 6) $0)))) $0))\\n'},\n",
       " {'role': 'user', 'content': '-- 3 disjoint lines\\n'},\n",
       " {'role': 'user',\n",
       "  'content': '(lambda (logo_forLoop 3 (lambda (lambda (logo_GETSET (lambda (logo_PT (lambda (logo_FWRT logo_UL logo_ZA $0)) (logo_FWRT logo_UL logo_ZA (logo_PT (lambda (logo_FWRT logo_UL logo_ZA $0)) (logo_FWRT logo_UL logo_ZA $0))))) (logo_FWRT logo_ZL (logo_DIVA logo_UA 3) $0)))) $0))\\n'},\n",
       " {'role': 'user', 'content': '-- octogon\\n'},\n",
       " {'role': 'user',\n",
       "  'content': '(lambda (logo_forLoop 8 (lambda (lambda (logo_FWRT (logo_MULL logo_UL 2) (logo_DIVA logo_UA 8) $0))) $0))\\n'},\n",
       " {'role': 'user', 'content': '-- 4 medium semicircle s in a row\\n'},\n",
       " {'role': 'user',\n",
       "  'content': '(lambda (logo_forLoop 4 (lambda (lambda (logo_GETSET (lambda (logo_forLoop logo_IFTY (lambda (lambda (logo_FWRT (logo_MULL logo_epsL 2) logo_epsA $0))) $0)) (logo_PT (lambda (logo_FWRT logo_UL logo_ZA $0)) $0)))) $0))\\n'},\n",
       " {'role': 'user',\n",
       "  'content': '-- a small circle connected at the bottom to a line connected to a small semi circle\\n'},\n",
       " {'role': 'user',\n",
       "  'content': '(lambda (logo_forLoop logo_IFTY (lambda (lambda (logo_FWRT (logo_MULL logo_epsL 1) logo_epsA $0))) (logo_forLoop logo_IFTY (lambda (lambda (logo_FWRT (logo_MULL logo_epsL 1) logo_epsA $0))) (logo_FWRT (logo_MULL logo_UL 5) logo_ZA (logo_forLoop logo_IFTY (lambda (lambda (logo_FWRT (logo_MULL logo_epsL 1) logo_epsA $0))) $0)))))\\n'},\n",
       " {'role': 'user',\n",
       "  'content': '-- i big pentagon and 1 small pentagon inside\\n'},\n",
       " {'role': 'user',\n",
       "  'content': '(lambda (logo_forLoop 5 (lambda (lambda (logo_FWRT (logo_MULL logo_UL 2) (logo_DIVA logo_UA 5) $0))) (logo_PT (lambda (logo_FWRT (logo_MULL logo_UL 2) logo_ZA $0)) (logo_forLoop 5 (lambda (lambda (logo_FWRT (logo_MULL logo_UL 1) (logo_DIVA logo_UA 5) $0))) $0))))\\n'},\n",
       " {'role': 'user',\n",
       "  'content': '-- a 6 sided gon that is divided into 6 triangles on the inside\\n'},\n",
       " {'role': 'user',\n",
       "  'content': '(lambda (logo_forLoop 6 (lambda (lambda (logo_GETSET (lambda (logo_forLoop 3 (lambda (lambda (logo_FWRT (logo_MULL logo_UL 1) (logo_DIVA logo_UA 3) $0))) $0)) (logo_FWRT logo_ZL (logo_DIVA logo_UA 6) $0)))) $0))\\n'},\n",
       " {'role': 'user', 'content': '-- octagon fiolled with 9 balck sied\\n'},\n",
       " {'role': 'user',\n",
       "  'content': '(lambda (logo_forLoop 8 (lambda (lambda (logo_GETSET (lambda (logo_forLoop 3 (lambda (lambda (logo_FWRT (logo_MULL logo_UL 1) (logo_DIVA logo_UA 3) $0))) $0)) (logo_FWRT logo_ZL (logo_DIVA logo_UA 8) $0)))) $0))\\n'},\n",
       " {'role': 'user', 'content': '-- 7 slices forming a circular formation\\n'}]"
      ]
     },
     "execution_count": 36,
     "metadata": {},
     "output_type": "execute_result"
    }
   ],
   "source": [
    "prompt.to_chat_format()"
   ]
  },
  {
   "cell_type": "code",
   "execution_count": null,
   "id": "e7988d2a-cef5-4b50-97ee-38eba0a5536a",
   "metadata": {},
   "outputs": [],
   "source": []
  }
 ],
 "metadata": {
  "kernelspec": {
   "display_name": "Python 3 (ipykernel)",
   "language": "python",
   "name": "python3"
  },
  "language_info": {
   "codemirror_mode": {
    "name": "ipython",
    "version": 3
   },
   "file_extension": ".py",
   "mimetype": "text/x-python",
   "name": "python",
   "nbconvert_exporter": "python",
   "pygments_lexer": "ipython3",
   "version": "3.7.12"
  }
 },
 "nbformat": 4,
 "nbformat_minor": 5
}
